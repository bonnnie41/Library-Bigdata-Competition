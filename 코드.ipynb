{
 "cells": [
  {
   "cell_type": "markdown",
   "id": "223d270c",
   "metadata": {},
   "source": [
    "# 필요 라이브러리 임포트 "
   ]
  },
  {
   "cell_type": "code",
   "execution_count": 1,
   "id": "0ed6c492",
   "metadata": {},
   "outputs": [],
   "source": [
    "#file \n",
    "import os\n",
    "\n",
    "# data\n",
    "import pandas as pd\n",
    "import geopandas as gpd\n",
    "from pandas import Series, DataFrame\n",
    "import numpy as np\n",
    "import os \n",
    "import warnings\n",
    "warnings.filterwarnings(\"ignore\") \n",
    "\n",
    "\n",
    "# visualization\n",
    "import matplotlib.pyplot as plt\n",
    "import matplotlib.font_manager as fm\n",
    "import seaborn as sns\n",
    "%matplotlib inline\n",
    "from matplotlib import rc\n",
    "rc('font',family='AppleGothic')\n",
    " \n",
    "if os.name == 'nt':\n",
    "    font_family = \"Malgun Gothic\"\n",
    "else:\n",
    "    font_family = \"AppleGothic\"\n",
    "    \n",
    "sns.set(font=font_family, rc = {\"axes.unicode_minus\" : False}) #-값이 깨지는 문제 해결을 위해 파라미터값 설정   \n",
    "\n",
    "# preprocessing|\n",
    "from sklearn.preprocessing import StandardScaler\n",
    "from sklearn.preprocessing import MinMaxScaler\n",
    "from sklearn.decomposition import PCA\n",
    "from sklearn.model_selection import train_test_split\n",
    "\n",
    "# model\n",
    "from sklearn.ensemble import RandomForestRegressor\n",
    "from sklearn.cluster import KMeans\n",
    "from sklearn.cluster import DBSCAN\n",
    "from scipy.cluster.hierarchy import dendrogram, ward, linkage\n",
    "import scipy.cluster.hierarchy as shc\n",
    "from sklearn.cluster import AgglomerativeClustering\n",
    "from sklearn.cluster import AffinityPropagation\n",
    "from sklearn.cluster import MeanShift, estimate_bandwidth\n",
    "\n",
    "\n",
    "# grid search\n",
    "from sklearn.model_selection import GridSearchCV\n",
    "\n",
    "# evaluation\n",
    "from sklearn.metrics.cluster import silhouette_score\n",
    "from sklearn.model_selection import cross_val_score\n",
    "from sklearn import metrics\n",
    "from sklearn.metrics import *"
   ]
  },
  {
   "cell_type": "markdown",
   "id": "4ee3a961",
   "metadata": {},
   "source": [
    "## 파일 경로 설정"
   ]
  },
  {
   "cell_type": "code",
   "execution_count": null,
   "id": "1bafe114",
   "metadata": {},
   "outputs": [],
   "source": [
    "# 새로운 작업 디렉토리 경로\n",
    "new_working_directory = \"C:/Users/User/도서관데이터공모전/raw data\"\n",
    "\n",
    "# 작업 디렉토리 변경\n",
    "os.chdir(new_working_directory)"
   ]
  },
  {
   "cell_type": "markdown",
   "id": "04b8f01f",
   "metadata": {},
   "source": [
    "# 데이터 전처리"
   ]
  },
  {
   "cell_type": "markdown",
   "id": "0bb3c684",
   "metadata": {},
   "source": [
    "### 법정동 행정구역도"
   ]
  },
  {
   "cell_type": "code",
   "execution_count": null,
   "id": "19e19630",
   "metadata": {},
   "outputs": [],
   "source": [
    "shp_file_path = 'LSMD_ADM_SECT_UMD_11.shp'\n",
    "\n",
    "gdf = gpd.read_file(shp_file_path,encoding = \"cp949\")\n",
    "#좌표계\n",
    "gdf = gdf.to_crs(\"epsg:4326\")\n",
    "\n",
    "# 데이터 확인\n",
    "gdf = gdf[['EMD_CD','EMD_NM', 'geometry']]\n",
    "gdf"
   ]
  },
  {
   "cell_type": "code",
   "execution_count": null,
   "id": "9986fe6a",
   "metadata": {},
   "outputs": [],
   "source": [
    "# 인덱스 열로 있는 'EMD_NM'을 열로 변환\n",
    "gdf.reset_index(inplace=True)\n",
    "gdf.loc[gdf['EMD_CD'] == '11380109', 'EMD_NM'] = '은평구_신사동'\n",
    "gdf.loc[gdf['EMD_CD'] == '11680107', 'EMD_NM'] = '강남구_신사동'\n",
    "gdf.loc[gdf['EMD_CD'] == '11440117', 'EMD_NM'] = '마포구_신정동'\n",
    "gdf.loc[gdf['EMD_CD'] == '11470101', 'EMD_NM'] = '양천구_신정동'"
   ]
  },
  {
   "cell_type": "markdown",
   "id": "4abd03eb",
   "metadata": {},
   "source": [
    "### 버스정류장"
   ]
  },
  {
   "cell_type": "code",
   "execution_count": null,
   "id": "d2916d45",
   "metadata": {},
   "outputs": [],
   "source": [
    "bus = pd.read_csv('버스정류장데이터.csv')\n",
    "bus = bus[bus[\"도시명\"] == \"서울특별시\"]"
   ]
  },
  {
   "cell_type": "code",
   "execution_count": null,
   "id": "06b31f39",
   "metadata": {},
   "outputs": [],
   "source": [
    "bus = gpd.GeoDataFrame(bus,\n",
    "                geometry=gpd.points_from_xy(bus.경도, bus.위도),\n",
    "                             crs='epsg:4326')\n",
    "\n",
    "bus = gpd.sjoin(bus, gdf, how='left', op=\"within\")"
   ]
  },
  {
   "cell_type": "code",
   "execution_count": null,
   "id": "ebe268b5",
   "metadata": {},
   "outputs": [],
   "source": [
    "# '정류장ID'와 'EMD_NM' 열이 같은 경우 중복 행 제거\n",
    "bus = bus.drop_duplicates(subset=['정류장번호', 'EMD_NM'], keep='first')"
   ]
  },
  {
   "cell_type": "code",
   "execution_count": null,
   "id": "2f943ca7",
   "metadata": {},
   "outputs": [],
   "source": [
    "bus_counts = bus['EMD_NM'].value_counts()\n",
    "\n",
    "# 개수 정보를 데이터프레임으로 변환\n",
    "bus_counts = pd.DataFrame({'법정동': bus_counts.index, '버스정류장': bus_counts.values})"
   ]
  },
  {
   "cell_type": "code",
   "execution_count": null,
   "id": "42118fd2",
   "metadata": {},
   "outputs": [],
   "source": [
    "# bus_counts.to_csv(\"버스정류장개수.csv\",encoding = 'cp949')"
   ]
  },
  {
   "cell_type": "markdown",
   "id": "7d26b7c1",
   "metadata": {},
   "source": [
    "### 지하철역"
   ]
  },
  {
   "cell_type": "code",
   "execution_count": null,
   "id": "0c622b0e",
   "metadata": {},
   "outputs": [],
   "source": [
    "subway = pd.read_csv(\"서울시 역사마스터 정보.csv\",encoding='cp949')\n",
    "subway"
   ]
  },
  {
   "cell_type": "code",
   "execution_count": null,
   "id": "03179c5e",
   "metadata": {},
   "outputs": [],
   "source": [
    "subway= gpd.GeoDataFrame(subway,\n",
    "                geometry=gpd.points_from_xy(subway.경도, subway.위도),\n",
    "                             crs='epsg:4326')\n",
    "subway = gpd.sjoin(subway, gdf, how='left', op=\"within\")"
   ]
  },
  {
   "cell_type": "code",
   "execution_count": null,
   "id": "cfec6644",
   "metadata": {},
   "outputs": [],
   "source": [
    "# 'END_NM' 열이 결측치인 행 제거\n",
    "subway = subway.dropna(subset=['EMD_NM'])"
   ]
  },
  {
   "cell_type": "code",
   "execution_count": null,
   "id": "998ecf36",
   "metadata": {},
   "outputs": [],
   "source": [
    "# '정류장ID'와 'EMD_NM' 열이 같은 경우 중복 행 제거\n",
    "subway = subway.drop_duplicates(subset=['역사_ID'], keep='first')\n",
    "\n",
    "# 중복 행 제거된 결과 출력\n",
    "subway"
   ]
  },
  {
   "cell_type": "code",
   "execution_count": null,
   "id": "78b9be68",
   "metadata": {},
   "outputs": [],
   "source": [
    "subway_counts = subway['EMD_NM'].value_counts()\n",
    "\n",
    "# 개수 정보를 데이터프레임으로 변환\n",
    "subway_counts = pd.DataFrame({'법정동': subway_counts.index, '지하철역': subway_counts.values})"
   ]
  },
  {
   "cell_type": "code",
   "execution_count": null,
   "id": "b43fcb55",
   "metadata": {},
   "outputs": [],
   "source": [
    "subway_counts.to_csv(\"지하철역개수.csv\",encoding = 'cp949')"
   ]
  },
  {
   "cell_type": "markdown",
   "id": "a8c6f50c",
   "metadata": {},
   "source": [
    "### 노인주거시설"
   ]
  },
  {
   "cell_type": "code",
   "execution_count": null,
   "id": "49b9c5bd",
   "metadata": {},
   "outputs": [],
   "source": [
    "shp_file_path_2 = '노인주거복지시설.shp'\n",
    "\n",
    "df = gpd.read_file(shp_file_path_2)[[\"field1\",\"geometry\"]]\n",
    "df\n",
    "\n",
    "# 새로운 열에 위도와 경도 추가\n",
    "df[\"위도\"] = df[\"geometry\"].y\n",
    "df[\"경도\"] = df[\"geometry\"].x\n",
    "\n",
    "gdf_o = gpd.GeoDataFrame(df,\n",
    "                geometry=gpd.points_from_xy(df.경도, df.위도),\n",
    "                             crs='epsg:4326')\n",
    "\n",
    "gdf_o  = gpd.sjoin(gdf_o, gdf, how='left', op=\"within\")"
   ]
  },
  {
   "cell_type": "code",
   "execution_count": null,
   "id": "7e02a53f",
   "metadata": {},
   "outputs": [],
   "source": [
    "# '정류장ID'와 'EMD_NM' 열이 같은 경우 중복 행 제거\n",
    "gdf_o = gdf_o .drop_duplicates(subset=['field1'], keep='first')"
   ]
  },
  {
   "cell_type": "code",
   "execution_count": null,
   "id": "dcd733fe",
   "metadata": {},
   "outputs": [],
   "source": [
    "gdf_o = gdf_o[gdf_o[\"EMD_NM\"].notna()]\n",
    "gdf_o"
   ]
  },
  {
   "cell_type": "code",
   "execution_count": null,
   "id": "754fb80a",
   "metadata": {},
   "outputs": [],
   "source": [
    "gdf_o_count = gdf_o['EMD_NM'].value_counts()\n",
    "# gdf_o_count.rename(columns={\"EMD_NM\": \"법정동\"}, inplace=True)\n",
    "gdf_o_count = pd.DataFrame({'법정동': gdf_o_count.index, '노인주거시설': gdf_o_count.values})"
   ]
  },
  {
   "cell_type": "code",
   "execution_count": null,
   "id": "648d9d3c",
   "metadata": {},
   "outputs": [],
   "source": [
    "# gdf_o_count.to_csv('노인주거시설개수.csv',encoding='cp949')"
   ]
  },
  {
   "cell_type": "markdown",
   "id": "59916d0f",
   "metadata": {},
   "source": [
    "### 노인여가시설"
   ]
  },
  {
   "cell_type": "code",
   "execution_count": null,
   "id": "cb586c76",
   "metadata": {},
   "outputs": [],
   "source": [
    "leisure = pd.read_csv('노인여가시설.csv')"
   ]
  },
  {
   "cell_type": "code",
   "execution_count": null,
   "id": "e18ca456",
   "metadata": {},
   "outputs": [],
   "source": [
    "# 조건 1: 'SIGNGU_NM' 열이 '강남구'이고 'LEGALDONG_NM' 열이 '신사동'인 행\n",
    "condition_1 = (leisure['SIGNGU_NM'] == '강남구') & (leisure['LEGALDONG_NM'] == '신사동')\n",
    "\n",
    "# 조건 2: 'SIGNGU_NM' 열이 '양천구'이고 'LEGALDONG_NM' 열이 '신정동'인 행\n",
    "condition_2 = (leisure['SIGNGU_NM'] == '양천구') & (leisure['LEGALDONG_NM'] == '신정동')\n",
    "\n",
    "# 조건 3: 'SIGNGU_NM' 열이 '은평구'이고 'LEGALDONG_NM' 열이 '신당동'인 행\n",
    "condition_3 = (leisure['SIGNGU_NM'] == '은평구') & (leisure['LEGALDONG_NM'] == '신사동')\n",
    "\n",
    "# 각 조건을 만족하는 행의 'LEGALDONG_NM' 값을 변경\n",
    "leisure.loc[condition_1, 'LEGALDONG_NM'] = '강남구_신사동'\n",
    "leisure.loc[condition_2, 'LEGALDONG_NM'] = '양천구_신정동'\n",
    "leisure.loc[condition_3, 'LEGALDONG_NM'] = '은평구_신사동'\n",
    "\n",
    "# 변경된 결과 출력\n",
    "leisure = leisure[leisure[\"CTPRVN_NM\"] == \"서울특별시\"]"
   ]
  },
  {
   "cell_type": "code",
   "execution_count": null,
   "id": "3c8cb5bc",
   "metadata": {},
   "outputs": [],
   "source": [
    "leisure_counts = leisure['LEGALDONG_NM'].value_counts()\n",
    "\n",
    "# 개수 정보를 데이터프레임으로 변환\n",
    "leisure_counts = pd.DataFrame({'법정동': leisure_counts.index, '노인여가시설': leisure_counts.values})"
   ]
  },
  {
   "cell_type": "code",
   "execution_count": null,
   "id": "bab3c73b",
   "metadata": {},
   "outputs": [],
   "source": [
    "#leisure_counts.to_csv('노인여가시설개수.csv',encoding='cp949')"
   ]
  },
  {
   "cell_type": "markdown",
   "id": "e376e36c",
   "metadata": {},
   "source": [
    "### 공공도서관"
   ]
  },
  {
   "cell_type": "code",
   "execution_count": null,
   "id": "39ce01d2",
   "metadata": {},
   "outputs": [],
   "source": [
    "shp_file_path_2 = '도서관데이터.shp'\n",
    "\n",
    "library = gpd.read_file(shp_file_path_2)\n",
    "#좌표계\n",
    "\n",
    "# 'field4'와 'field5' 열 제거\n",
    "library = library.drop(['field4', 'field5','_GC_TYPE'], axis=1)\n",
    "\n",
    "\n",
    "# # 새로운 열에 위도와 경도 추가\n",
    "library[\"위도\"] = library[\"geometry\"].y\n",
    "library[\"경도\"] = library[\"geometry\"].x\n",
    "\n",
    "library = gpd.GeoDataFrame(library,\n",
    "                geometry=gpd.points_from_xy(library.경도, library.위도),\n",
    "                             crs='epsg:4326')\n",
    "\n",
    "gdf_library = gpd.sjoin(library, gdf, how='left', op=\"within\")"
   ]
  },
  {
   "cell_type": "code",
   "execution_count": null,
   "id": "d2771ada",
   "metadata": {},
   "outputs": [],
   "source": [
    "duplicate_rows_gdf_library = gdf_library[gdf_library.duplicated(subset='field1', keep=False)]\n",
    "\n",
    "# 추출된 중복 행 출력\n",
    "duplicate_rows_gdf_library"
   ]
  },
  {
   "cell_type": "code",
   "execution_count": null,
   "id": "97fd07fb",
   "metadata": {},
   "outputs": [],
   "source": [
    "gdf_library = gdf_library.drop_duplicates(subset=['field1'], keep='first')"
   ]
  },
  {
   "cell_type": "code",
   "execution_count": null,
   "id": "25585b9b",
   "metadata": {},
   "outputs": [],
   "source": [
    "# 일부 열들 추출\n",
    "selected_columns = ['field1', 'EMD_NM']  # 원하는 열 이름들로 수정\n",
    "\n",
    "# 선택된 열들을 포함한 데이터프레임 생성\n",
    "gdf_library = gdf_library[selected_columns]\n",
    "gdf_library.rename(columns={'field1': '도서관명'}, inplace=True)\n",
    "gdf_library.rename(columns={'EMD_NM': '법정동'}, inplace=True)"
   ]
  },
  {
   "cell_type": "markdown",
   "id": "59b6fc8c",
   "metadata": {},
   "source": [
    "## 노인인구비율"
   ]
  },
  {
   "cell_type": "code",
   "execution_count": null,
   "id": "f26b818d",
   "metadata": {},
   "outputs": [],
   "source": [
    "df = pd.read_csv(\"지역별(법정동) 성별 연령별 주민등록 인구수_20221231.csv\",encoding=\"cp949\")\n",
    "df = df[df['시도명'] == \"서울특별시\"]"
   ]
  },
  {
   "cell_type": "code",
   "execution_count": null,
   "id": "642f71f2",
   "metadata": {},
   "outputs": [],
   "source": [
    "selected_columns = df.columns[9:].to_list() + ['읍면동명'] + ['법정동코드'] +['계']\n",
    "df = df[selected_columns]"
   ]
  },
  {
   "cell_type": "code",
   "execution_count": null,
   "id": "19e39816",
   "metadata": {},
   "outputs": [],
   "source": [
    "# '만 60세 남자'부터 '만 110세 이상 여자' 열의 위치를 가져옴\n",
    "start_index_male = df.columns.get_loc('만60세남자')\n",
    "end_index_male = df.columns.get_loc('만110세이상남자')\n",
    "start_index_female = df.columns.get_loc('만60세여자')\n",
    "end_index_female = df.columns.get_loc('만110세이상여자')\n",
    "\n",
    "df['만 60세 이상 인구수'] = df.iloc[:, start_index_male:end_index_male+1].sum(axis=1) + df.iloc[:, start_index_female:end_index_female+1].sum(axis=1)"
   ]
  },
  {
   "cell_type": "code",
   "execution_count": null,
   "id": "27189b7a",
   "metadata": {},
   "outputs": [],
   "source": [
    "df = df[['읍면동명','법정동코드', '만 60세 이상 인구수','계']]"
   ]
  },
  {
   "cell_type": "code",
   "execution_count": null,
   "id": "ff435e9c",
   "metadata": {},
   "outputs": [],
   "source": [
    "# 법정동 코드 열이 1138010900인 행의 '읍면동명' 열 값을 '은평구_신사동'으로 변경\n",
    "df.loc[df['법정동코드'] == 1138010900, '읍면동명'] = '은평구_신사동'\n",
    "df.loc[df['법정동코드'] == 1144011700, '읍면동명'] = '마포구_신정동'\n",
    "df.loc[df['법정동코드'] == 1147010100, '읍면동명'] = '양천구_신정동'\n",
    "df.loc[df['법정동코드'] == 1138010900, '읍면동명'] = '강남구_신사동'"
   ]
  },
  {
   "cell_type": "code",
   "execution_count": null,
   "id": "2d03aaca",
   "metadata": {},
   "outputs": [],
   "source": [
    "# '노인인구비율' 열 추가\n",
    "df['노인인구비율'] = (df['만 60세 이상 인구수'] / df['계']) * 100\n",
    "df = df[['읍면동명','노인인구비율']]"
   ]
  },
  {
   "cell_type": "code",
   "execution_count": null,
   "id": "ef72763b",
   "metadata": {},
   "outputs": [],
   "source": [
    "# df.to_csv('노인인구비율.csv',encoding='cp949')"
   ]
  },
  {
   "cell_type": "markdown",
   "id": "c4b97bf5",
   "metadata": {},
   "source": [
    "## 장애인노인보호구역"
   ]
  },
  {
   "cell_type": "code",
   "execution_count": null,
   "id": "9b851578",
   "metadata": {},
   "outputs": [],
   "source": [
    "df = pd.read_csv(\"전국노인장애인보호구역표준데이터.csv\",encoding=\"cp949\")"
   ]
  },
  {
   "cell_type": "code",
   "execution_count": null,
   "id": "27ac372b",
   "metadata": {},
   "outputs": [],
   "source": [
    "df = df[df['장소유형코드'] == 1]\n",
    "df_seoul = df[df[\"시도명\"] == \"서울특별시\"]\n",
    "df_seoul"
   ]
  },
  {
   "cell_type": "code",
   "execution_count": null,
   "id": "1f1c56ba",
   "metadata": {},
   "outputs": [],
   "source": [
    "gdf_seoul = gpd.GeoDataFrame(df_seoul,\n",
    "                geometry=gpd.points_from_xy(df_seoul.경도, df_seoul.위도),\n",
    "                             crs='epsg:4326')"
   ]
  },
  {
   "cell_type": "code",
   "execution_count": null,
   "id": "32ccfe75",
   "metadata": {},
   "outputs": [],
   "source": [
    "gdf_seoul_2 = gpd.sjoin(gdf_seoul, gdf, how='left', op=\"within\")"
   ]
  },
  {
   "cell_type": "code",
   "execution_count": null,
   "id": "d40d2282",
   "metadata": {},
   "outputs": [],
   "source": [
    "gdf_seoul_2 = gdf_seoul_2.drop_duplicates(subset=['대상시설명'], keep='first')"
   ]
  },
  {
   "cell_type": "code",
   "execution_count": null,
   "id": "ccd95cee",
   "metadata": {},
   "outputs": [],
   "source": [
    "protectionarea_counts = gdf_seoul_2['EMD_NM'].value_counts()\n",
    "\n",
    "# 개수 정보를 데이터프레임으로 변환\n",
    "protectionarea_counts = pd.DataFrame({'법정동': protectionarea_counts.index, '노인보호구역': protectionarea_counts.values})"
   ]
  },
  {
   "cell_type": "code",
   "execution_count": null,
   "id": "460f970d",
   "metadata": {},
   "outputs": [],
   "source": [
    "# protectionarea_counts.to_csv('노인보호구역개수.csv',encoding='cp949')"
   ]
  },
  {
   "cell_type": "markdown",
   "id": "4f1f12bf",
   "metadata": {},
   "source": [
    "## 데이터 통합"
   ]
  },
  {
   "cell_type": "code",
   "execution_count": null,
   "id": "0811725b",
   "metadata": {},
   "outputs": [],
   "source": [
    "bus = pd.read_csv(\"버스정류장_법정동별_개수.csv\")\n",
    "protection = pd.read_excel(\"노인보호구역_법정동별_개수.xlsx\")\n",
    "subway = pd.read_csv(\"지하철역_법정동별_개수.csv\",encoding=\"cp949\")\n",
    "home = pd.read_csv(\"노인주거시설_법정동별_개수.csv\")\n",
    "leisure = pd.read_csv(\"노인여가시설_법정동별_개수.csv\",encoding=\"cp949\")\n",
    "people = pd.read_csv(\"노인인구수_법정동별_개수.csv\",encoding=\"cp949\")"
   ]
  },
  {
   "cell_type": "code",
   "execution_count": null,
   "id": "2b0f6e0b",
   "metadata": {},
   "outputs": [],
   "source": [
    "leisure.rename(columns={'LEGALDONG_NM': '법정동'}, inplace=True)\n",
    "leisure.rename(columns={'개수': '노인여가시설'}, inplace=True)\n",
    "home.rename(columns={'EMD_NM': '법정동'}, inplace=True)\n",
    "home.rename(columns={'Count': '노인주거시설'}, inplace=True)"
   ]
  },
  {
   "cell_type": "code",
   "execution_count": null,
   "id": "bf43348b",
   "metadata": {},
   "outputs": [],
   "source": [
    "# 두 데이터프레임을 법정동을 기준으로 외부 조인 (모든 행 포함)\n",
    "merged_df = pd.merge(leisure, home, on='법정동', how='outer')\n",
    "# NaN 값을 0으로 채움\n",
    "merged_df.fillna(0, inplace=True)"
   ]
  },
  {
   "cell_type": "code",
   "execution_count": null,
   "id": "a421632e",
   "metadata": {},
   "outputs": [],
   "source": [
    "# 개수 열을 합산하여 새로운 열 추가\n",
    "merged_df['합계'] = merged_df['노인여가시설'] + merged_df['노인주거시설']\n",
    "\n",
    "# 결과 출력\n",
    "merged_df.rename(columns={'합계': '노인관련시설'}, inplace=True)\n",
    "columns_to_extract = [merged_df.columns[0], merged_df.columns[3]]\n",
    "merged_df = merged_df[columns_to_extract]"
   ]
  },
  {
   "cell_type": "code",
   "execution_count": null,
   "id": "3c8e9d87",
   "metadata": {},
   "outputs": [],
   "source": [
    "# 열 이름 변경\n",
    "bus.rename(columns={'개수': '버스정류장'}, inplace=True)\n",
    "protection.rename(columns={'개수': '노인보호구역'}, inplace=True)\n",
    "subway.rename(columns={'개수': '지하철역'}, inplace=True)\n",
    "people.rename(columns={'EMD_NM': '법정동'}, inplace=True)"
   ]
  },
  {
   "cell_type": "code",
   "execution_count": null,
   "id": "1e68f96b",
   "metadata": {},
   "outputs": [],
   "source": [
    "# 모든 데이터프레임을 법정동을 기준으로 외부 조인\n",
    "df = bus.merge(subway, on='법정동', how='outer') \\\n",
    "               .merge(merged_df, on='법정동', how='outer') \\\n",
    "               .merge(protection, on='법정동', how='outer') \\\n",
    "               .merge(people, on='법정동', how='outer') \n",
    "#                .merge(df_library, on='법정동', how='outer')\n",
    "\n",
    "# NaN 값을 0으로 채움\n",
    "df.fillna(0, inplace=True)"
   ]
  },
  {
   "cell_type": "markdown",
   "id": "f4d5ba2f",
   "metadata": {},
   "source": [
    "## 새로운 변수 생성"
   ]
  },
  {
   "cell_type": "code",
   "execution_count": null,
   "id": "226f2f46",
   "metadata": {
    "scrolled": true
   },
   "outputs": [],
   "source": [
    "df['지식정보취약계층_예산'] = df['노인_예산'] + df['다문화_예산'] +df['장애인_예산']\n",
    "df['지식정보취약계층_이용자수'] =  df['지식정보취약계층 서비스 이용자수_노인'] + df['지식정보취약계층 서비스 이용자수_다문화'] +df['지식정보취약계층 서비스 이용자수_장애인']"
   ]
  },
  {
   "cell_type": "markdown",
   "id": "a0d4e2c3",
   "metadata": {},
   "source": [
    "# 랜덤포레스트로 변수중요도 추출"
   ]
  },
  {
   "cell_type": "code",
   "execution_count": null,
   "id": "727dcc82",
   "metadata": {},
   "outputs": [],
   "source": [
    "df = pd.read_csv('면적대비 개수 노인인구비율수정 (1).csv')\n",
    "index_column = '법정동'\n",
    "df = df.set_index(index_column)"
   ]
  },
  {
   "cell_type": "code",
   "execution_count": null,
   "id": "aa1f302f",
   "metadata": {},
   "outputs": [],
   "source": [
    "# 한글 폰트 경로 설정\n",
    "#font_path = 'C:/WINDOWS/Fonts/H2HDRM.TTF'\n",
    "\n",
    "# 폰트 객체 생성\n",
    "#fontprop = fm.FontProperties(fname=font_path)\n",
    "\n",
    "# 데이터와 타겟 분리\n",
    "X = df.drop('지식정보취약계층_이용자수', axis=1)\n",
    "y = df['지식정보취약계층_이용자수']\n",
    "\n",
    "# 데이터 정규화 (표준화)\n",
    "scaler = MinMaxScaler()\n",
    "X_scaled = scaler.fit_transform(X)\n",
    "\n",
    "# 랜덤 포레스트 모델 생성 및 학습\n",
    "rf_model = RandomForestRegressor(n_estimators=100, random_state=42)\n",
    "rf_model.fit(X, y)\n",
    "\n",
    "#변수 중요도 그래프\n",
    "plt.figure(figsize=(15, 10), dpi=100) \n",
    "plt.barh(X.columns, feature_importances)\n",
    "plt.title('Feature Importance from Random Forest')\n",
    "#plt.show()"
   ]
  },
  {
   "cell_type": "code",
   "execution_count": null,
   "id": "1ad40380",
   "metadata": {},
   "outputs": [],
   "source": [
    "ftr_importances_values = rf_model.feature_importances_\n",
    "ftr_importances = pd.Series(ftr_importances_values, index=X.columns)\n",
    "ftr_top = ftr_importances.sort_values(ascending=False)[:20]\n",
    " \n",
    "\n",
    "plt.figure(figsize=(11, 6), dpi = 300)\n",
    "sns.barplot(x=ftr_top, y=ftr_top.index, palette='viridis')\n",
    "plt.title('Feature Importance from Random Forest', size =20)\n",
    "\n",
    "plt.savefig('FI.png', bbox_inches = 'tight')"
   ]
  },
  {
   "cell_type": "code",
   "execution_count": null,
   "id": "7a1b33c8",
   "metadata": {},
   "outputs": [],
   "source": [
    "importance_df = pd.DataFrame({'feature': list(X.columns), 'importance': feature_importances})"
   ]
  },
  {
   "cell_type": "markdown",
   "id": "5e4c4ac2",
   "metadata": {},
   "source": [
    "### 가중치 계산"
   ]
  },
  {
   "cell_type": "code",
   "execution_count": null,
   "id": "f9e2db52",
   "metadata": {},
   "outputs": [],
   "source": [
    "# 가중치 계산\n",
    "weighted_variable_importance = feature_importances / sum(feature_importances)\n",
    "\n",
    "# 가중치를 적용한 변수 값\n",
    "weighted_features =  X * weighted_variable_importance"
   ]
  },
  {
   "cell_type": "markdown",
   "id": "c7610c55",
   "metadata": {},
   "source": [
    "***"
   ]
  },
  {
   "cell_type": "code",
   "execution_count": 2,
   "id": "07a2fb53",
   "metadata": {},
   "outputs": [],
   "source": [
    "df1=  pd.read_csv('면적대비 개수 노인인구비율수정 (1).csv')"
   ]
  },
  {
   "cell_type": "code",
   "execution_count": 3,
   "id": "2fcc1b10",
   "metadata": {},
   "outputs": [],
   "source": [
    "#천만원단위로 나누기\n",
    "for i in ['결산액_인건비', '결산액_자료구입비', '결산액_운영비', '예산액_인건비', '예산액_자료구입비', '예산액_운영비', '도서관총예산', '장애인_예산', '노인_예산', '다문화_예산', '지식정보취약계층_예산']:\n",
    "    df1[i] = df1[i] *0.00000001"
   ]
  },
  {
   "cell_type": "code",
   "execution_count": 4,
   "id": "27822550",
   "metadata": {},
   "outputs": [],
   "source": [
    "\n",
    "for i in ['만 60세 이상 인구수', '전체 인구수']:\n",
    "    df1.drop(labels =i, axis=1, inplace=True)"
   ]
  },
  {
   "cell_type": "code",
   "execution_count": 5,
   "id": "83269079",
   "metadata": {},
   "outputs": [],
   "source": [
    "df_dong = df1[['법정동']]"
   ]
  },
  {
   "cell_type": "code",
   "execution_count": 6,
   "id": "cc99d616",
   "metadata": {},
   "outputs": [],
   "source": [
    "df2=df1.drop('법정동', axis=1)"
   ]
  },
  {
   "cell_type": "markdown",
   "id": "32323399",
   "metadata": {},
   "source": [
    "# 모델링"
   ]
  },
  {
   "cell_type": "markdown",
   "id": "e2b957bc",
   "metadata": {},
   "source": [
    "### 1) 표준화"
   ]
  },
  {
   "cell_type": "code",
   "execution_count": 7,
   "id": "7fd4ca9f",
   "metadata": {},
   "outputs": [],
   "source": [
    "ss = StandardScaler()\n",
    "df_scaled = pd.DataFrame(ss.fit_transform(df2))"
   ]
  },
  {
   "cell_type": "code",
   "execution_count": 8,
   "id": "930eb66b",
   "metadata": {},
   "outputs": [
    {
     "data": {
      "text/plain": [
       "(128, 27)"
      ]
     },
     "execution_count": 8,
     "metadata": {},
     "output_type": "execute_result"
    }
   ],
   "source": [
    "df_scaled.shape"
   ]
  },
  {
   "cell_type": "markdown",
   "id": "386356ac",
   "metadata": {},
   "source": [
    "### 2) PCA"
   ]
  },
  {
   "cell_type": "code",
   "execution_count": 9,
   "id": "40b9dd23",
   "metadata": {},
   "outputs": [
    {
     "data": {
      "text/html": [
       "<style>#sk-container-id-1 {color: black;background-color: white;}#sk-container-id-1 pre{padding: 0;}#sk-container-id-1 div.sk-toggleable {background-color: white;}#sk-container-id-1 label.sk-toggleable__label {cursor: pointer;display: block;width: 100%;margin-bottom: 0;padding: 0.3em;box-sizing: border-box;text-align: center;}#sk-container-id-1 label.sk-toggleable__label-arrow:before {content: \"▸\";float: left;margin-right: 0.25em;color: #696969;}#sk-container-id-1 label.sk-toggleable__label-arrow:hover:before {color: black;}#sk-container-id-1 div.sk-estimator:hover label.sk-toggleable__label-arrow:before {color: black;}#sk-container-id-1 div.sk-toggleable__content {max-height: 0;max-width: 0;overflow: hidden;text-align: left;background-color: #f0f8ff;}#sk-container-id-1 div.sk-toggleable__content pre {margin: 0.2em;color: black;border-radius: 0.25em;background-color: #f0f8ff;}#sk-container-id-1 input.sk-toggleable__control:checked~div.sk-toggleable__content {max-height: 200px;max-width: 100%;overflow: auto;}#sk-container-id-1 input.sk-toggleable__control:checked~label.sk-toggleable__label-arrow:before {content: \"▾\";}#sk-container-id-1 div.sk-estimator input.sk-toggleable__control:checked~label.sk-toggleable__label {background-color: #d4ebff;}#sk-container-id-1 div.sk-label input.sk-toggleable__control:checked~label.sk-toggleable__label {background-color: #d4ebff;}#sk-container-id-1 input.sk-hidden--visually {border: 0;clip: rect(1px 1px 1px 1px);clip: rect(1px, 1px, 1px, 1px);height: 1px;margin: -1px;overflow: hidden;padding: 0;position: absolute;width: 1px;}#sk-container-id-1 div.sk-estimator {font-family: monospace;background-color: #f0f8ff;border: 1px dotted black;border-radius: 0.25em;box-sizing: border-box;margin-bottom: 0.5em;}#sk-container-id-1 div.sk-estimator:hover {background-color: #d4ebff;}#sk-container-id-1 div.sk-parallel-item::after {content: \"\";width: 100%;border-bottom: 1px solid gray;flex-grow: 1;}#sk-container-id-1 div.sk-label:hover label.sk-toggleable__label {background-color: #d4ebff;}#sk-container-id-1 div.sk-serial::before {content: \"\";position: absolute;border-left: 1px solid gray;box-sizing: border-box;top: 0;bottom: 0;left: 50%;z-index: 0;}#sk-container-id-1 div.sk-serial {display: flex;flex-direction: column;align-items: center;background-color: white;padding-right: 0.2em;padding-left: 0.2em;position: relative;}#sk-container-id-1 div.sk-item {position: relative;z-index: 1;}#sk-container-id-1 div.sk-parallel {display: flex;align-items: stretch;justify-content: center;background-color: white;position: relative;}#sk-container-id-1 div.sk-item::before, #sk-container-id-1 div.sk-parallel-item::before {content: \"\";position: absolute;border-left: 1px solid gray;box-sizing: border-box;top: 0;bottom: 0;left: 50%;z-index: -1;}#sk-container-id-1 div.sk-parallel-item {display: flex;flex-direction: column;z-index: 1;position: relative;background-color: white;}#sk-container-id-1 div.sk-parallel-item:first-child::after {align-self: flex-end;width: 50%;}#sk-container-id-1 div.sk-parallel-item:last-child::after {align-self: flex-start;width: 50%;}#sk-container-id-1 div.sk-parallel-item:only-child::after {width: 0;}#sk-container-id-1 div.sk-dashed-wrapped {border: 1px dashed gray;margin: 0 0.4em 0.5em 0.4em;box-sizing: border-box;padding-bottom: 0.4em;background-color: white;}#sk-container-id-1 div.sk-label label {font-family: monospace;font-weight: bold;display: inline-block;line-height: 1.2em;}#sk-container-id-1 div.sk-label-container {text-align: center;}#sk-container-id-1 div.sk-container {/* jupyter's `normalize.less` sets `[hidden] { display: none; }` but bootstrap.min.css set `[hidden] { display: none !important; }` so we also need the `!important` here to be able to override the default hidden behavior on the sphinx rendered scikit-learn.org. See: https://github.com/scikit-learn/scikit-learn/issues/21755 */display: inline-block !important;position: relative;}#sk-container-id-1 div.sk-text-repr-fallback {display: none;}</style><div id=\"sk-container-id-1\" class=\"sk-top-container\"><div class=\"sk-text-repr-fallback\"><pre>PCA(n_components=2)</pre><b>In a Jupyter environment, please rerun this cell to show the HTML representation or trust the notebook. <br />On GitHub, the HTML representation is unable to render, please try loading this page with nbviewer.org.</b></div><div class=\"sk-container\" hidden><div class=\"sk-item\"><div class=\"sk-estimator sk-toggleable\"><input class=\"sk-toggleable__control sk-hidden--visually\" id=\"sk-estimator-id-1\" type=\"checkbox\" checked><label for=\"sk-estimator-id-1\" class=\"sk-toggleable__label sk-toggleable__label-arrow\">PCA</label><div class=\"sk-toggleable__content\"><pre>PCA(n_components=2)</pre></div></div></div></div></div>"
      ],
      "text/plain": [
       "PCA(n_components=2)"
      ]
     },
     "execution_count": 9,
     "metadata": {},
     "output_type": "execute_result"
    }
   ],
   "source": [
    "# 2차원으로 차원 축소\n",
    "pca = PCA(n_components = 2)\n",
    "pca.fit(df2)"
   ]
  },
  {
   "cell_type": "code",
   "execution_count": 10,
   "id": "ce6c495c",
   "metadata": {},
   "outputs": [],
   "source": [
    "# pca transform 후 데이터프레임으로 자료형 변경\n",
    "df_pca = pca.fit_transform(df2)\n",
    "df_pca = pd.DataFrame(df_pca, columns = ['0', '1'])"
   ]
  },
  {
   "cell_type": "code",
   "execution_count": 11,
   "id": "e2e6dccb",
   "metadata": {},
   "outputs": [
    {
     "name": "stdout",
     "output_type": "stream",
     "text": [
      "[0.92123577 0.04710955]\n"
     ]
    }
   ],
   "source": [
    "# PCA 주성분 설명력\n",
    "print(pca.explained_variance_ratio_) "
   ]
  },
  {
   "cell_type": "markdown",
   "id": "800da0d7",
   "metadata": {},
   "source": [
    "# 군집분석"
   ]
  },
  {
   "cell_type": "markdown",
   "id": "be2e5d3f",
   "metadata": {},
   "source": [
    "## 1. K-Means 군집분석"
   ]
  },
  {
   "cell_type": "markdown",
   "id": "0f40935b",
   "metadata": {},
   "source": [
    "### K를 설정하기 위한 Elbow curve "
   ]
  },
  {
   "cell_type": "markdown",
   "id": "7779d200",
   "metadata": {},
   "source": [
    "###### k가 2개일 때 distortions의 변화가 일어난 것으로 해석되어 cluster수를 2개로 하기로 하였다."
   ]
  },
  {
   "cell_type": "code",
   "execution_count": 12,
   "id": "78309191",
   "metadata": {},
   "outputs": [
    {
     "data": {
      "image/png": "[encoded data removed]",
      "text/plain": [
       "<Figure size 500x300 with 1 Axes>"
      ]
     },
     "metadata": {},
     "output_type": "display_data"
    }
   ],
   "source": [
    "\n",
    "\n",
    "\n",
    "\n",
    "fig = plt.figure(figsize=(5, 3)) ## 캔버스 생성\n",
    "fig.set_facecolor('white') ## 캔버스 색상 설정\n",
    "ax = fig.add_subplot() ## 그림 뼈대(프레임) 생성\n",
    "\n",
    "distortions = []\n",
    "for k in range(1, 8):\n",
    "    kmeans = KMeans(n_clusters=k)\n",
    "    kmeans.fit(df_pca)\n",
    "    distortions.append(kmeans.inertia_)\n",
    "\n",
    "ax.plot(range(1, 8), distortions,color='green', linestyle='--', linewidth=2)\n",
    "plt.title('Elbow curve')\n",
    "\n",
    "plt.savefig('Elbow curve.png')\n",
    "\n",
    "# 2에 해당하게 세로선 그리기"
   ]
  },
  {
   "cell_type": "code",
   "execution_count": 13,
   "id": "702f2c05",
   "metadata": {},
   "outputs": [
    {
     "name": "stdout",
     "output_type": "stream",
     "text": [
      "Silhouette Coefficient: 0.7045\n",
      "Davies Bouldin Index: 0.5668\n"
     ]
    },
    {
     "data": {
      "image/png": "[encoded data removed]",
      "text/plain": [
       "<Figure size 640x480 with 1 Axes>"
      ]
     },
     "metadata": {},
     "output_type": "display_data"
    }
   ],
   "source": [
    "reduced_df = pd.DataFrame(df_pca)\n",
    "\n",
    "km = KMeans(n_clusters=2, init='k-means++')\n",
    "cluster = km.fit(reduced_df)\n",
    "cluster_num = pd.DataFrame(cluster.labels_)\n",
    "\n",
    "df_km = pd.concat([reduced_df, cluster_num], axis=1)\n",
    "df_km.columns = [0, 1, \"cluster\"]\n",
    "\n",
    "sns.set_palette(\"Dark2\")\n",
    "\n",
    "sns.scatterplot(data=df_km, x=0, y=1, hue = 'cluster', legend=\"full\", markers= {0: \"s\", 1: \"X\"})\n",
    "# sns.scatterplot(km.cluster_centers_[:, 0], km.cluster_centers_[:, 1], hue = 'cluster',  label = 'Centroids')\n",
    "\n",
    "plt.title(\"KMeans Clustering\")\n",
    "plt.grid(False)\n",
    "plt.legend()\n",
    "plt.savefig('Kmeans Clustering.png', dpi = 300)\n",
    "\n",
    "print('Silhouette Coefficient: {:.4f}'.format(metrics.silhouette_score(df_km.iloc[:,:-1], df_km['cluster'])))\n",
    "print('Davies Bouldin Index: {:.4f}'.format(metrics.davies_bouldin_score(df_km.iloc[:,:-1], df_km['cluster'])))"
   ]
  },
  {
   "cell_type": "code",
   "execution_count": 14,
   "id": "b3c7e6a6",
   "metadata": {},
   "outputs": [
    {
     "name": "stdout",
     "output_type": "stream",
     "text": [
      "silhouette_samples( ) return 값의 shape (128,)\n",
      "Silhouette Analysis Score:0.630\n"
     ]
    }
   ],
   "source": [
    "kmeans = KMeans(n_clusters=3, init='k-means++', max_iter=300,random_state=0).fit(df_pca)\n",
    "\n",
    "df_pca['cluster'] = kmeans.labels_\n",
    "\n",
    "# iris 의 모든 개별 데이터에 실루엣 계수값을 구함. \n",
    "score_samples = silhouette_samples(df_pca, df_pca['cluster'])\n",
    "print('silhouette_samples( ) return 값의 shape' , score_samples.shape)\n",
    "\n",
    "# irisDF에 실루엣 계수 컬럼 추가\n",
    "df_pca['silhouette_coeff'] = score_samples\n",
    "\n",
    "# 모든 데이터의 평균 실루엣 계수값을 구함. \n",
    "average_score = silhouette_score(df_pca, df_pca['cluster'])\n",
    "print('Silhouette Analysis Score:{0:.3f}'.format(average_score))"
   ]
  },
  {
   "cell_type": "markdown",
   "id": "0828fc08",
   "metadata": {},
   "source": [
    "# 군집분석 평가(실루엣 계수)"
   ]
  },
  {
   "cell_type": "code",
   "execution_count": 15,
   "id": "da69a8f6",
   "metadata": {},
   "outputs": [
    {
     "data": {
      "text/plain": [
       "cluster\n",
       "0    0.726890\n",
       "1    0.459661\n",
       "2    0.407860\n",
       "Name: silhouette_coeff, dtype: float64"
      ]
     },
     "execution_count": 15,
     "metadata": {},
     "output_type": "execute_result"
    }
   ],
   "source": [
    "df_pca.groupby('cluster')['silhouette_coeff'].mean()"
   ]
  },
  {
   "cell_type": "markdown",
   "id": "e10f39cf",
   "metadata": {},
   "source": [
    "##### 군집분석 후 파일 저장"
   ]
  },
  {
   "cell_type": "code",
   "execution_count": 16,
   "id": "0b85c7d8",
   "metadata": {},
   "outputs": [],
   "source": [
    "df_km = pd.concat([df_dong, df_scaled, cluster_num], axis=1)\n",
    "\n",
    "df_km.columns = ['법정동', '총 좌석 수', '총 좌석 수_중_노인 및 장애인열람석', '이용자용_컴퓨터 수', '정규직_사서직', '정규직_사서직_정원',\n",
    "       '결산액_인건비', '결산액_자료구입비', '결산액_운영비', '예산액_인건비', '예산액_자료구입비', '예산액_운영비',\n",
    "       '회원등록자수_연령별회원등록_성인', '이용자수_도서관방문자수', '정보서비스의뢰및제공_제공', '장애인용_특수자료수_인쇄',\n",
    "       '도서관총예산', '장애인_예산', '노인_예산', '다문화_예산', '공공도서관', '버스정류장', '지하철역',\n",
    "       '노인관련시설', '노인보호구역', '지식정보취약계층_예산', '지식정보취약계층_이용자수', '노인인구비율', 'cluster']\n",
    "\n",
    "#df_km.to_csv('결과(표준화).csv', index=False)\n",
    "\n",
    "df_km2 = pd.concat([df_dong, df2, cluster_num], axis=1)\n",
    "#df_km2.to_csv('결과(원본).csv', index=False)"
   ]
  },
  {
   "cell_type": "markdown",
   "id": "3b841689",
   "metadata": {},
   "source": [
    "##### 군집별 특성 파악"
   ]
  },
  {
   "cell_type": "markdown",
   "id": "8b4f2a3a",
   "metadata": {},
   "source": [
    "###### 1) 군집 =0"
   ]
  },
  {
   "cell_type": "code",
   "execution_count": 17,
   "id": "dcdfbc88",
   "metadata": {
    "scrolled": true
   },
   "outputs": [
    {
     "data": {
      "text/html": [
       "<div>\n",
       "<style scoped>\n",
       "    .dataframe tbody tr th:only-of-type {\n",
       "        vertical-align: middle;\n",
       "    }\n",
       "\n",
       "    .dataframe tbody tr th {\n",
       "        vertical-align: top;\n",
       "    }\n",
       "\n",
       "    .dataframe thead th {\n",
       "        text-align: right;\n",
       "    }\n",
       "</style>\n",
       "<table border=\"1\" class=\"dataframe\">\n",
       "  <thead>\n",
       "    <tr style=\"text-align: right;\">\n",
       "      <th></th>\n",
       "      <th>법정동</th>\n",
       "      <th>총 좌석 수</th>\n",
       "      <th>총 좌석 수_중_노인 및 장애인열람석</th>\n",
       "      <th>이용자용_컴퓨터 수</th>\n",
       "      <th>정규직_사서직</th>\n",
       "      <th>정규직_사서직_정원</th>\n",
       "      <th>결산액_인건비</th>\n",
       "      <th>결산액_자료구입비</th>\n",
       "      <th>결산액_운영비</th>\n",
       "      <th>예산액_인건비</th>\n",
       "      <th>...</th>\n",
       "      <th>다문화_예산</th>\n",
       "      <th>공공도서관</th>\n",
       "      <th>버스정류장</th>\n",
       "      <th>지하철역</th>\n",
       "      <th>노인관련시설</th>\n",
       "      <th>노인보호구역</th>\n",
       "      <th>지식정보취약계층_예산</th>\n",
       "      <th>지식정보취약계층_이용자수</th>\n",
       "      <th>노인인구비율</th>\n",
       "      <th>cluster</th>\n",
       "    </tr>\n",
       "  </thead>\n",
       "  <tbody>\n",
       "    <tr>\n",
       "      <th>5</th>\n",
       "      <td>개포동</td>\n",
       "      <td>-0.157924</td>\n",
       "      <td>-0.199186</td>\n",
       "      <td>0.948950</td>\n",
       "      <td>1.514255</td>\n",
       "      <td>1.472904</td>\n",
       "      <td>1.888797</td>\n",
       "      <td>1.744405</td>\n",
       "      <td>1.815232</td>\n",
       "      <td>2.634686</td>\n",
       "      <td>...</td>\n",
       "      <td>1.303838</td>\n",
       "      <td>-0.438405</td>\n",
       "      <td>-0.878151</td>\n",
       "      <td>-0.223222</td>\n",
       "      <td>-0.426689</td>\n",
       "      <td>-0.541064</td>\n",
       "      <td>3.537383</td>\n",
       "      <td>0.267279</td>\n",
       "      <td>0.148933</td>\n",
       "      <td>0</td>\n",
       "    </tr>\n",
       "    <tr>\n",
       "      <th>7</th>\n",
       "      <td>고덕동</td>\n",
       "      <td>-0.092497</td>\n",
       "      <td>-0.174035</td>\n",
       "      <td>3.075611</td>\n",
       "      <td>0.983269</td>\n",
       "      <td>1.117695</td>\n",
       "      <td>1.816837</td>\n",
       "      <td>1.156855</td>\n",
       "      <td>1.749374</td>\n",
       "      <td>-0.151735</td>\n",
       "      <td>...</td>\n",
       "      <td>2.535255</td>\n",
       "      <td>-0.415968</td>\n",
       "      <td>-1.247898</td>\n",
       "      <td>-0.752884</td>\n",
       "      <td>0.203646</td>\n",
       "      <td>-0.105446</td>\n",
       "      <td>6.477304</td>\n",
       "      <td>1.520579</td>\n",
       "      <td>-0.956783</td>\n",
       "      <td>0</td>\n",
       "    </tr>\n",
       "    <tr>\n",
       "      <th>8</th>\n",
       "      <td>고척동</td>\n",
       "      <td>-0.067063</td>\n",
       "      <td>-0.120688</td>\n",
       "      <td>1.815083</td>\n",
       "      <td>1.685849</td>\n",
       "      <td>1.644845</td>\n",
       "      <td>0.933466</td>\n",
       "      <td>0.359258</td>\n",
       "      <td>0.604561</td>\n",
       "      <td>0.817561</td>\n",
       "      <td>...</td>\n",
       "      <td>1.448761</td>\n",
       "      <td>-0.343823</td>\n",
       "      <td>0.360504</td>\n",
       "      <td>-0.752884</td>\n",
       "      <td>-0.426689</td>\n",
       "      <td>-0.541064</td>\n",
       "      <td>0.591113</td>\n",
       "      <td>-0.161707</td>\n",
       "      <td>0.539283</td>\n",
       "      <td>0</td>\n",
       "    </tr>\n",
       "    <tr>\n",
       "      <th>12</th>\n",
       "      <td>구산동</td>\n",
       "      <td>-0.107984</td>\n",
       "      <td>-0.108095</td>\n",
       "      <td>0.513996</td>\n",
       "      <td>0.277988</td>\n",
       "      <td>0.234130</td>\n",
       "      <td>-0.072317</td>\n",
       "      <td>-0.410528</td>\n",
       "      <td>-0.349556</td>\n",
       "      <td>0.079205</td>\n",
       "      <td>...</td>\n",
       "      <td>-0.534835</td>\n",
       "      <td>-0.253382</td>\n",
       "      <td>0.126330</td>\n",
       "      <td>-0.752884</td>\n",
       "      <td>-0.426689</td>\n",
       "      <td>1.978169</td>\n",
       "      <td>-0.328115</td>\n",
       "      <td>-0.479834</td>\n",
       "      <td>0.689521</td>\n",
       "      <td>0</td>\n",
       "    </tr>\n",
       "    <tr>\n",
       "      <th>17</th>\n",
       "      <td>길동</td>\n",
       "      <td>-0.076434</td>\n",
       "      <td>-0.143776</td>\n",
       "      <td>1.042771</td>\n",
       "      <td>1.332732</td>\n",
       "      <td>1.291013</td>\n",
       "      <td>0.267938</td>\n",
       "      <td>-0.044035</td>\n",
       "      <td>0.121985</td>\n",
       "      <td>0.267184</td>\n",
       "      <td>...</td>\n",
       "      <td>0.987505</td>\n",
       "      <td>-0.287901</td>\n",
       "      <td>-0.046218</td>\n",
       "      <td>-0.157974</td>\n",
       "      <td>-0.426689</td>\n",
       "      <td>-0.541064</td>\n",
       "      <td>0.053842</td>\n",
       "      <td>1.551723</td>\n",
       "      <td>0.535996</td>\n",
       "      <td>0</td>\n",
       "    </tr>\n",
       "    <tr>\n",
       "      <th>22</th>\n",
       "      <td>답십리동</td>\n",
       "      <td>-0.144534</td>\n",
       "      <td>-0.166689</td>\n",
       "      <td>0.565251</td>\n",
       "      <td>0.278572</td>\n",
       "      <td>0.588765</td>\n",
       "      <td>-0.031192</td>\n",
       "      <td>-0.090707</td>\n",
       "      <td>-0.302904</td>\n",
       "      <td>0.034087</td>\n",
       "      <td>...</td>\n",
       "      <td>-0.326293</td>\n",
       "      <td>-0.294115</td>\n",
       "      <td>0.194118</td>\n",
       "      <td>-0.752884</td>\n",
       "      <td>-0.426689</td>\n",
       "      <td>1.558297</td>\n",
       "      <td>-0.185374</td>\n",
       "      <td>0.286117</td>\n",
       "      <td>0.118031</td>\n",
       "      <td>0</td>\n",
       "    </tr>\n",
       "    <tr>\n",
       "      <th>23</th>\n",
       "      <td>당산동</td>\n",
       "      <td>0.034426</td>\n",
       "      <td>0.008044</td>\n",
       "      <td>2.874041</td>\n",
       "      <td>1.687149</td>\n",
       "      <td>1.646148</td>\n",
       "      <td>0.027551</td>\n",
       "      <td>-0.313712</td>\n",
       "      <td>-0.032509</td>\n",
       "      <td>0.033331</td>\n",
       "      <td>...</td>\n",
       "      <td>0.636301</td>\n",
       "      <td>-0.073882</td>\n",
       "      <td>-0.582353</td>\n",
       "      <td>-0.752884</td>\n",
       "      <td>-0.426689</td>\n",
       "      <td>-0.541064</td>\n",
       "      <td>1.583244</td>\n",
       "      <td>2.491581</td>\n",
       "      <td>-2.022768</td>\n",
       "      <td>0</td>\n",
       "    </tr>\n",
       "    <tr>\n",
       "      <th>27</th>\n",
       "      <td>도곡동</td>\n",
       "      <td>-0.084457</td>\n",
       "      <td>-0.157419</td>\n",
       "      <td>0.897723</td>\n",
       "      <td>0.453779</td>\n",
       "      <td>0.586425</td>\n",
       "      <td>-0.143053</td>\n",
       "      <td>0.825615</td>\n",
       "      <td>0.096420</td>\n",
       "      <td>-0.132471</td>\n",
       "      <td>...</td>\n",
       "      <td>-0.534835</td>\n",
       "      <td>-0.332776</td>\n",
       "      <td>-0.144818</td>\n",
       "      <td>0.657628</td>\n",
       "      <td>0.192277</td>\n",
       "      <td>0.316175</td>\n",
       "      <td>-0.226282</td>\n",
       "      <td>-0.344495</td>\n",
       "      <td>-0.723459</td>\n",
       "      <td>0</td>\n",
       "    </tr>\n",
       "    <tr>\n",
       "      <th>39</th>\n",
       "      <td>목동</td>\n",
       "      <td>-0.117615</td>\n",
       "      <td>-0.179282</td>\n",
       "      <td>0.317895</td>\n",
       "      <td>0.453779</td>\n",
       "      <td>0.410277</td>\n",
       "      <td>1.243955</td>\n",
       "      <td>0.792292</td>\n",
       "      <td>0.891527</td>\n",
       "      <td>1.203764</td>\n",
       "      <td>...</td>\n",
       "      <td>0.436681</td>\n",
       "      <td>-0.307577</td>\n",
       "      <td>-0.582353</td>\n",
       "      <td>0.147157</td>\n",
       "      <td>0.047010</td>\n",
       "      <td>-0.541064</td>\n",
       "      <td>0.389030</td>\n",
       "      <td>0.625704</td>\n",
       "      <td>-0.879067</td>\n",
       "      <td>0</td>\n",
       "    </tr>\n",
       "    <tr>\n",
       "      <th>40</th>\n",
       "      <td>묵동</td>\n",
       "      <td>-0.076576</td>\n",
       "      <td>-0.098650</td>\n",
       "      <td>0.031878</td>\n",
       "      <td>0.276314</td>\n",
       "      <td>0.232453</td>\n",
       "      <td>-0.274193</td>\n",
       "      <td>0.561509</td>\n",
       "      <td>0.208470</td>\n",
       "      <td>0.013658</td>\n",
       "      <td>...</td>\n",
       "      <td>1.216526</td>\n",
       "      <td>-0.320695</td>\n",
       "      <td>0.274230</td>\n",
       "      <td>-0.249130</td>\n",
       "      <td>-0.426689</td>\n",
       "      <td>-0.541064</td>\n",
       "      <td>-0.025615</td>\n",
       "      <td>-0.022721</td>\n",
       "      <td>0.379901</td>\n",
       "      <td>0</td>\n",
       "    </tr>\n",
       "    <tr>\n",
       "      <th>44</th>\n",
       "      <td>반포동</td>\n",
       "      <td>-0.153252</td>\n",
       "      <td>-0.179632</td>\n",
       "      <td>0.949757</td>\n",
       "      <td>1.332732</td>\n",
       "      <td>1.291013</td>\n",
       "      <td>1.968111</td>\n",
       "      <td>2.074293</td>\n",
       "      <td>2.416881</td>\n",
       "      <td>1.790477</td>\n",
       "      <td>...</td>\n",
       "      <td>-0.534835</td>\n",
       "      <td>-0.430121</td>\n",
       "      <td>-0.582353</td>\n",
       "      <td>0.648032</td>\n",
       "      <td>-0.426689</td>\n",
       "      <td>-0.541064</td>\n",
       "      <td>-0.319457</td>\n",
       "      <td>-0.556896</td>\n",
       "      <td>-1.217776</td>\n",
       "      <td>0</td>\n",
       "    </tr>\n",
       "    <tr>\n",
       "      <th>53</th>\n",
       "      <td>사직동</td>\n",
       "      <td>0.856384</td>\n",
       "      <td>0.345614</td>\n",
       "      <td>1.045600</td>\n",
       "      <td>1.774182</td>\n",
       "      <td>1.821506</td>\n",
       "      <td>-0.483620</td>\n",
       "      <td>-0.536573</td>\n",
       "      <td>-0.431278</td>\n",
       "      <td>-0.445524</td>\n",
       "      <td>...</td>\n",
       "      <td>-0.281807</td>\n",
       "      <td>1.928235</td>\n",
       "      <td>0.650140</td>\n",
       "      <td>-0.752884</td>\n",
       "      <td>-0.426689</td>\n",
       "      <td>-0.541064</td>\n",
       "      <td>-0.368025</td>\n",
       "      <td>3.402239</td>\n",
       "      <td>0.497309</td>\n",
       "      <td>0</td>\n",
       "    </tr>\n",
       "    <tr>\n",
       "      <th>55</th>\n",
       "      <td>상계동</td>\n",
       "      <td>-0.161206</td>\n",
       "      <td>-0.194446</td>\n",
       "      <td>1.204905</td>\n",
       "      <td>1.145868</td>\n",
       "      <td>1.103770</td>\n",
       "      <td>7.515823</td>\n",
       "      <td>5.248298</td>\n",
       "      <td>8.334778</td>\n",
       "      <td>8.069442</td>\n",
       "      <td>...</td>\n",
       "      <td>-0.534835</td>\n",
       "      <td>-0.458081</td>\n",
       "      <td>-0.816526</td>\n",
       "      <td>-0.388262</td>\n",
       "      <td>-0.186682</td>\n",
       "      <td>-0.541064</td>\n",
       "      <td>1.726436</td>\n",
       "      <td>0.140438</td>\n",
       "      <td>0.395024</td>\n",
       "      <td>0</td>\n",
       "    </tr>\n",
       "    <tr>\n",
       "      <th>61</th>\n",
       "      <td>서교동</td>\n",
       "      <td>0.097681</td>\n",
       "      <td>0.441813</td>\n",
       "      <td>3.985816</td>\n",
       "      <td>2.731777</td>\n",
       "      <td>2.692893</td>\n",
       "      <td>0.913497</td>\n",
       "      <td>-0.050657</td>\n",
       "      <td>0.872444</td>\n",
       "      <td>0.756978</td>\n",
       "      <td>...</td>\n",
       "      <td>0.095196</td>\n",
       "      <td>-0.210233</td>\n",
       "      <td>1.426610</td>\n",
       "      <td>0.057920</td>\n",
       "      <td>-0.426689</td>\n",
       "      <td>-0.541064</td>\n",
       "      <td>2.601861</td>\n",
       "      <td>1.239694</td>\n",
       "      <td>-1.213324</td>\n",
       "      <td>0</td>\n",
       "    </tr>\n",
       "    <tr>\n",
       "      <th>80</th>\n",
       "      <td>암사동</td>\n",
       "      <td>-0.159662</td>\n",
       "      <td>-0.190126</td>\n",
       "      <td>-0.112984</td>\n",
       "      <td>-0.247733</td>\n",
       "      <td>-0.292657</td>\n",
       "      <td>0.225112</td>\n",
       "      <td>0.306720</td>\n",
       "      <td>-0.088224</td>\n",
       "      <td>0.228647</td>\n",
       "      <td>...</td>\n",
       "      <td>1.010266</td>\n",
       "      <td>-0.428395</td>\n",
       "      <td>-1.379159</td>\n",
       "      <td>-0.548503</td>\n",
       "      <td>-0.426689</td>\n",
       "      <td>-0.168427</td>\n",
       "      <td>0.342603</td>\n",
       "      <td>2.884286</td>\n",
       "      <td>0.091330</td>\n",
       "      <td>0</td>\n",
       "    </tr>\n",
       "    <tr>\n",
       "      <th>85</th>\n",
       "      <td>연희동</td>\n",
       "      <td>-0.116347</td>\n",
       "      <td>-0.174035</td>\n",
       "      <td>1.864218</td>\n",
       "      <td>1.866477</td>\n",
       "      <td>1.825840</td>\n",
       "      <td>1.056012</td>\n",
       "      <td>0.720172</td>\n",
       "      <td>1.115238</td>\n",
       "      <td>1.370908</td>\n",
       "      <td>...</td>\n",
       "      <td>0.853862</td>\n",
       "      <td>-0.387662</td>\n",
       "      <td>-0.668627</td>\n",
       "      <td>-0.752884</td>\n",
       "      <td>-0.008571</td>\n",
       "      <td>0.618833</td>\n",
       "      <td>0.774734</td>\n",
       "      <td>0.108713</td>\n",
       "      <td>-0.221379</td>\n",
       "      <td>0</td>\n",
       "    </tr>\n",
       "    <tr>\n",
       "      <th>88</th>\n",
       "      <td>오금동</td>\n",
       "      <td>0.019932</td>\n",
       "      <td>-0.060345</td>\n",
       "      <td>2.244696</td>\n",
       "      <td>2.373865</td>\n",
       "      <td>2.508372</td>\n",
       "      <td>0.901837</td>\n",
       "      <td>0.295916</td>\n",
       "      <td>0.900670</td>\n",
       "      <td>0.845019</td>\n",
       "      <td>...</td>\n",
       "      <td>0.568956</td>\n",
       "      <td>-0.292389</td>\n",
       "      <td>-0.385154</td>\n",
       "      <td>-0.170448</td>\n",
       "      <td>-0.426689</td>\n",
       "      <td>-0.541064</td>\n",
       "      <td>0.189305</td>\n",
       "      <td>1.710397</td>\n",
       "      <td>0.327768</td>\n",
       "      <td>0</td>\n",
       "    </tr>\n",
       "    <tr>\n",
       "      <th>106</th>\n",
       "      <td>중계동</td>\n",
       "      <td>-0.113486</td>\n",
       "      <td>-0.165464</td>\n",
       "      <td>0.930371</td>\n",
       "      <td>0.453779</td>\n",
       "      <td>0.468788</td>\n",
       "      <td>1.351535</td>\n",
       "      <td>0.799487</td>\n",
       "      <td>1.230712</td>\n",
       "      <td>1.286639</td>\n",
       "      <td>...</td>\n",
       "      <td>0.080068</td>\n",
       "      <td>-0.304471</td>\n",
       "      <td>-0.699439</td>\n",
       "      <td>-0.569613</td>\n",
       "      <td>-0.426689</td>\n",
       "      <td>-0.206916</td>\n",
       "      <td>2.091011</td>\n",
       "      <td>0.135334</td>\n",
       "      <td>-0.348571</td>\n",
       "      <td>0</td>\n",
       "    </tr>\n",
       "    <tr>\n",
       "      <th>115</th>\n",
       "      <td>태평로1가</td>\n",
       "      <td>0.999534</td>\n",
       "      <td>3.878792</td>\n",
       "      <td>1.002762</td>\n",
       "      <td>2.752993</td>\n",
       "      <td>2.714152</td>\n",
       "      <td>-0.594292</td>\n",
       "      <td>-0.603232</td>\n",
       "      <td>1.321461</td>\n",
       "      <td>-0.581437</td>\n",
       "      <td>...</td>\n",
       "      <td>-0.240188</td>\n",
       "      <td>4.227217</td>\n",
       "      <td>3.971706</td>\n",
       "      <td>-0.752884</td>\n",
       "      <td>-0.426689</td>\n",
       "      <td>-0.541064</td>\n",
       "      <td>-0.345772</td>\n",
       "      <td>-0.046853</td>\n",
       "      <td>4.805552</td>\n",
       "      <td>0</td>\n",
       "    </tr>\n",
       "    <tr>\n",
       "      <th>124</th>\n",
       "      <td>화동</td>\n",
       "      <td>11.090515</td>\n",
       "      <td>10.317649</td>\n",
       "      <td>4.273076</td>\n",
       "      <td>5.198329</td>\n",
       "      <td>5.164445</td>\n",
       "      <td>-0.614312</td>\n",
       "      <td>-0.633826</td>\n",
       "      <td>-0.490445</td>\n",
       "      <td>-0.581152</td>\n",
       "      <td>...</td>\n",
       "      <td>-0.515212</td>\n",
       "      <td>5.435391</td>\n",
       "      <td>-0.896638</td>\n",
       "      <td>-0.752884</td>\n",
       "      <td>-0.426689</td>\n",
       "      <td>-0.541064</td>\n",
       "      <td>-0.449108</td>\n",
       "      <td>2.869892</td>\n",
       "      <td>1.399988</td>\n",
       "      <td>0</td>\n",
       "    </tr>\n",
       "    <tr>\n",
       "      <th>125</th>\n",
       "      <td>후암동</td>\n",
       "      <td>0.246599</td>\n",
       "      <td>0.214434</td>\n",
       "      <td>2.272913</td>\n",
       "      <td>3.178154</td>\n",
       "      <td>3.140175</td>\n",
       "      <td>0.159225</td>\n",
       "      <td>-0.199374</td>\n",
       "      <td>0.494837</td>\n",
       "      <td>-0.268936</td>\n",
       "      <td>...</td>\n",
       "      <td>0.433306</td>\n",
       "      <td>0.295474</td>\n",
       "      <td>-0.391316</td>\n",
       "      <td>-0.752884</td>\n",
       "      <td>-0.426689</td>\n",
       "      <td>-0.541064</td>\n",
       "      <td>-0.057045</td>\n",
       "      <td>0.246109</td>\n",
       "      <td>0.163727</td>\n",
       "      <td>0</td>\n",
       "    </tr>\n",
       "  </tbody>\n",
       "</table>\n",
       "<p>21 rows × 29 columns</p>\n",
       "</div>"
      ],
      "text/plain": [
       "       법정동     총 좌석 수  총 좌석 수_중_노인 및 장애인열람석  이용자용_컴퓨터 수   정규직_사서직  정규직_사서직_정원  \\\n",
       "5      개포동  -0.157924             -0.199186    0.948950  1.514255    1.472904   \n",
       "7      고덕동  -0.092497             -0.174035    3.075611  0.983269    1.117695   \n",
       "8      고척동  -0.067063             -0.120688    1.815083  1.685849    1.644845   \n",
       "12     구산동  -0.107984             -0.108095    0.513996  0.277988    0.234130   \n",
       "17      길동  -0.076434             -0.143776    1.042771  1.332732    1.291013   \n",
       "22    답십리동  -0.144534             -0.166689    0.565251  0.278572    0.588765   \n",
       "23     당산동   0.034426              0.008044    2.874041  1.687149    1.646148   \n",
       "27     도곡동  -0.084457             -0.157419    0.897723  0.453779    0.586425   \n",
       "39      목동  -0.117615             -0.179282    0.317895  0.453779    0.410277   \n",
       "40      묵동  -0.076576             -0.098650    0.031878  0.276314    0.232453   \n",
       "44     반포동  -0.153252             -0.179632    0.949757  1.332732    1.291013   \n",
       "53     사직동   0.856384              0.345614    1.045600  1.774182    1.821506   \n",
       "55     상계동  -0.161206             -0.194446    1.204905  1.145868    1.103770   \n",
       "61     서교동   0.097681              0.441813    3.985816  2.731777    2.692893   \n",
       "80     암사동  -0.159662             -0.190126   -0.112984 -0.247733   -0.292657   \n",
       "85     연희동  -0.116347             -0.174035    1.864218  1.866477    1.825840   \n",
       "88     오금동   0.019932             -0.060345    2.244696  2.373865    2.508372   \n",
       "106    중계동  -0.113486             -0.165464    0.930371  0.453779    0.468788   \n",
       "115  태평로1가   0.999534              3.878792    1.002762  2.752993    2.714152   \n",
       "124     화동  11.090515             10.317649    4.273076  5.198329    5.164445   \n",
       "125    후암동   0.246599              0.214434    2.272913  3.178154    3.140175   \n",
       "\n",
       "      결산액_인건비  결산액_자료구입비   결산액_운영비   예산액_인건비  ...    다문화_예산     공공도서관  \\\n",
       "5    1.888797   1.744405  1.815232  2.634686  ...  1.303838 -0.438405   \n",
       "7    1.816837   1.156855  1.749374 -0.151735  ...  2.535255 -0.415968   \n",
       "8    0.933466   0.359258  0.604561  0.817561  ...  1.448761 -0.343823   \n",
       "12  -0.072317  -0.410528 -0.349556  0.079205  ... -0.534835 -0.253382   \n",
       "17   0.267938  -0.044035  0.121985  0.267184  ...  0.987505 -0.287901   \n",
       "22  -0.031192  -0.090707 -0.302904  0.034087  ... -0.326293 -0.294115   \n",
       "23   0.027551  -0.313712 -0.032509  0.033331  ...  0.636301 -0.073882   \n",
       "27  -0.143053   0.825615  0.096420 -0.132471  ... -0.534835 -0.332776   \n",
       "39   1.243955   0.792292  0.891527  1.203764  ...  0.436681 -0.307577   \n",
       "40  -0.274193   0.561509  0.208470  0.013658  ...  1.216526 -0.320695   \n",
       "44   1.968111   2.074293  2.416881  1.790477  ... -0.534835 -0.430121   \n",
       "53  -0.483620  -0.536573 -0.431278 -0.445524  ... -0.281807  1.928235   \n",
       "55   7.515823   5.248298  8.334778  8.069442  ... -0.534835 -0.458081   \n",
       "61   0.913497  -0.050657  0.872444  0.756978  ...  0.095196 -0.210233   \n",
       "80   0.225112   0.306720 -0.088224  0.228647  ...  1.010266 -0.428395   \n",
       "85   1.056012   0.720172  1.115238  1.370908  ...  0.853862 -0.387662   \n",
       "88   0.901837   0.295916  0.900670  0.845019  ...  0.568956 -0.292389   \n",
       "106  1.351535   0.799487  1.230712  1.286639  ...  0.080068 -0.304471   \n",
       "115 -0.594292  -0.603232  1.321461 -0.581437  ... -0.240188  4.227217   \n",
       "124 -0.614312  -0.633826 -0.490445 -0.581152  ... -0.515212  5.435391   \n",
       "125  0.159225  -0.199374  0.494837 -0.268936  ...  0.433306  0.295474   \n",
       "\n",
       "        버스정류장      지하철역    노인관련시설    노인보호구역  지식정보취약계층_예산  지식정보취약계층_이용자수  \\\n",
       "5   -0.878151 -0.223222 -0.426689 -0.541064     3.537383       0.267279   \n",
       "7   -1.247898 -0.752884  0.203646 -0.105446     6.477304       1.520579   \n",
       "8    0.360504 -0.752884 -0.426689 -0.541064     0.591113      -0.161707   \n",
       "12   0.126330 -0.752884 -0.426689  1.978169    -0.328115      -0.479834   \n",
       "17  -0.046218 -0.157974 -0.426689 -0.541064     0.053842       1.551723   \n",
       "22   0.194118 -0.752884 -0.426689  1.558297    -0.185374       0.286117   \n",
       "23  -0.582353 -0.752884 -0.426689 -0.541064     1.583244       2.491581   \n",
       "27  -0.144818  0.657628  0.192277  0.316175    -0.226282      -0.344495   \n",
       "39  -0.582353  0.147157  0.047010 -0.541064     0.389030       0.625704   \n",
       "40   0.274230 -0.249130 -0.426689 -0.541064    -0.025615      -0.022721   \n",
       "44  -0.582353  0.648032 -0.426689 -0.541064    -0.319457      -0.556896   \n",
       "53   0.650140 -0.752884 -0.426689 -0.541064    -0.368025       3.402239   \n",
       "55  -0.816526 -0.388262 -0.186682 -0.541064     1.726436       0.140438   \n",
       "61   1.426610  0.057920 -0.426689 -0.541064     2.601861       1.239694   \n",
       "80  -1.379159 -0.548503 -0.426689 -0.168427     0.342603       2.884286   \n",
       "85  -0.668627 -0.752884 -0.008571  0.618833     0.774734       0.108713   \n",
       "88  -0.385154 -0.170448 -0.426689 -0.541064     0.189305       1.710397   \n",
       "106 -0.699439 -0.569613 -0.426689 -0.206916     2.091011       0.135334   \n",
       "115  3.971706 -0.752884 -0.426689 -0.541064    -0.345772      -0.046853   \n",
       "124 -0.896638 -0.752884 -0.426689 -0.541064    -0.449108       2.869892   \n",
       "125 -0.391316 -0.752884 -0.426689 -0.541064    -0.057045       0.246109   \n",
       "\n",
       "       노인인구비율  cluster  \n",
       "5    0.148933        0  \n",
       "7   -0.956783        0  \n",
       "8    0.539283        0  \n",
       "12   0.689521        0  \n",
       "17   0.535996        0  \n",
       "22   0.118031        0  \n",
       "23  -2.022768        0  \n",
       "27  -0.723459        0  \n",
       "39  -0.879067        0  \n",
       "40   0.379901        0  \n",
       "44  -1.217776        0  \n",
       "53   0.497309        0  \n",
       "55   0.395024        0  \n",
       "61  -1.213324        0  \n",
       "80   0.091330        0  \n",
       "85  -0.221379        0  \n",
       "88   0.327768        0  \n",
       "106 -0.348571        0  \n",
       "115  4.805552        0  \n",
       "124  1.399988        0  \n",
       "125  0.163727        0  \n",
       "\n",
       "[21 rows x 29 columns]"
      ]
     },
     "execution_count": 17,
     "metadata": {},
     "output_type": "execute_result"
    }
   ],
   "source": [
    "df_km_0 = df_km[df_km['cluster']==0]\n",
    "df_km_0"
   ]
  },
  {
   "cell_type": "code",
   "execution_count": 18,
   "id": "cce8422b",
   "metadata": {},
   "outputs": [],
   "source": [
    "###### 2) 군집 =1"
   ]
  },
  {
   "cell_type": "code",
   "execution_count": 19,
   "id": "4910f4d5",
   "metadata": {
    "scrolled": true
   },
   "outputs": [
    {
     "data": {
      "text/plain": [
       "0      가락동\n",
       "1      가산동\n",
       "2      가양동\n",
       "3      강일동\n",
       "4      개봉동\n",
       "      ... \n",
       "121    현저동\n",
       "122    홍은동\n",
       "123    화곡동\n",
       "126    휘경동\n",
       "127    흑석동\n",
       "Name: 법정동, Length: 107, dtype: object"
      ]
     },
     "execution_count": 19,
     "metadata": {},
     "output_type": "execute_result"
    }
   ],
   "source": [
    "df_km_1 = df_km[df_km['cluster']==1 ]\n",
    "df_km_1['법정동']"
   ]
  },
  {
   "cell_type": "code",
   "execution_count": 20,
   "id": "19d7049e",
   "metadata": {},
   "outputs": [],
   "source": [
    "df_km.drop(labels= '법정동', axis=1, inplace=True)"
   ]
  },
  {
   "cell_type": "code",
   "execution_count": 21,
   "id": "052d6ff9",
   "metadata": {},
   "outputs": [],
   "source": [
    "df_km = df_km.astype({'cluster':'object'})"
   ]
  },
  {
   "cell_type": "code",
   "execution_count": 22,
   "id": "4dd0700a",
   "metadata": {},
   "outputs": [
    {
     "data": {
      "text/html": [
       "<div>\n",
       "<style scoped>\n",
       "    .dataframe tbody tr th:only-of-type {\n",
       "        vertical-align: middle;\n",
       "    }\n",
       "\n",
       "    .dataframe tbody tr th {\n",
       "        vertical-align: top;\n",
       "    }\n",
       "\n",
       "    .dataframe thead th {\n",
       "        text-align: right;\n",
       "    }\n",
       "</style>\n",
       "<table border=\"1\" class=\"dataframe\">\n",
       "  <thead>\n",
       "    <tr style=\"text-align: right;\">\n",
       "      <th></th>\n",
       "      <th>총 좌석 수</th>\n",
       "      <th>총 좌석 수_중_노인 및 장애인열람석</th>\n",
       "      <th>이용자용_컴퓨터 수</th>\n",
       "      <th>정규직_사서직</th>\n",
       "      <th>정규직_사서직_정원</th>\n",
       "      <th>결산액_인건비</th>\n",
       "      <th>결산액_자료구입비</th>\n",
       "      <th>결산액_운영비</th>\n",
       "      <th>예산액_인건비</th>\n",
       "      <th>예산액_자료구입비</th>\n",
       "      <th>...</th>\n",
       "      <th>노인_예산</th>\n",
       "      <th>다문화_예산</th>\n",
       "      <th>공공도서관</th>\n",
       "      <th>버스정류장</th>\n",
       "      <th>지하철역</th>\n",
       "      <th>노인관련시설</th>\n",
       "      <th>노인보호구역</th>\n",
       "      <th>지식정보취약계층_예산</th>\n",
       "      <th>지식정보취약계층_이용자수</th>\n",
       "      <th>노인인구비율</th>\n",
       "    </tr>\n",
       "    <tr>\n",
       "      <th>cluster</th>\n",
       "      <th></th>\n",
       "      <th></th>\n",
       "      <th></th>\n",
       "      <th></th>\n",
       "      <th></th>\n",
       "      <th></th>\n",
       "      <th></th>\n",
       "      <th></th>\n",
       "      <th></th>\n",
       "      <th></th>\n",
       "      <th></th>\n",
       "      <th></th>\n",
       "      <th></th>\n",
       "      <th></th>\n",
       "      <th></th>\n",
       "      <th></th>\n",
       "      <th></th>\n",
       "      <th></th>\n",
       "      <th></th>\n",
       "      <th></th>\n",
       "      <th></th>\n",
       "    </tr>\n",
       "  </thead>\n",
       "  <tbody>\n",
       "    <tr>\n",
       "      <th>0</th>\n",
       "      <td>0.557906</td>\n",
       "      <td>0.614023</td>\n",
       "      <td>1.511635</td>\n",
       "      <td>1.500196</td>\n",
       "      <td>1.507760</td>\n",
       "      <td>0.859844</td>\n",
       "      <td>0.571532</td>\n",
       "      <td>0.975223</td>\n",
       "      <td>0.822397</td>\n",
       "      <td>0.825890</td>\n",
       "      <td>...</td>\n",
       "      <td>0.733028</td>\n",
       "      <td>0.385890</td>\n",
       "      <td>0.300307</td>\n",
       "      <td>-0.109398</td>\n",
       "      <td>-0.396441</td>\n",
       "      <td>-0.313302</td>\n",
       "      <td>-0.170677</td>\n",
       "      <td>0.85967</td>\n",
       "      <td>0.850837</td>\n",
       "      <td>0.119487</td>\n",
       "    </tr>\n",
       "    <tr>\n",
       "      <th>1</th>\n",
       "      <td>-0.109496</td>\n",
       "      <td>-0.120509</td>\n",
       "      <td>-0.296676</td>\n",
       "      <td>-0.294431</td>\n",
       "      <td>-0.295915</td>\n",
       "      <td>-0.168754</td>\n",
       "      <td>-0.112170</td>\n",
       "      <td>-0.191399</td>\n",
       "      <td>-0.161405</td>\n",
       "      <td>-0.162091</td>\n",
       "      <td>...</td>\n",
       "      <td>-0.143865</td>\n",
       "      <td>-0.075735</td>\n",
       "      <td>-0.058939</td>\n",
       "      <td>0.021471</td>\n",
       "      <td>0.077806</td>\n",
       "      <td>0.061489</td>\n",
       "      <td>0.033497</td>\n",
       "      <td>-0.16872</td>\n",
       "      <td>-0.166987</td>\n",
       "      <td>-0.023451</td>\n",
       "    </tr>\n",
       "  </tbody>\n",
       "</table>\n",
       "<p>2 rows × 27 columns</p>\n",
       "</div>"
      ],
      "text/plain": [
       "           총 좌석 수  총 좌석 수_중_노인 및 장애인열람석  이용자용_컴퓨터 수   정규직_사서직  정규직_사서직_정원  \\\n",
       "cluster                                                                     \n",
       "0        0.557906              0.614023    1.511635  1.500196    1.507760   \n",
       "1       -0.109496             -0.120509   -0.296676 -0.294431   -0.295915   \n",
       "\n",
       "          결산액_인건비  결산액_자료구입비   결산액_운영비   예산액_인건비  예산액_자료구입비  ...     노인_예산  \\\n",
       "cluster                                                      ...             \n",
       "0        0.859844   0.571532  0.975223  0.822397   0.825890  ...  0.733028   \n",
       "1       -0.168754  -0.112170 -0.191399 -0.161405  -0.162091  ... -0.143865   \n",
       "\n",
       "           다문화_예산     공공도서관     버스정류장      지하철역    노인관련시설    노인보호구역  \\\n",
       "cluster                                                               \n",
       "0        0.385890  0.300307 -0.109398 -0.396441 -0.313302 -0.170677   \n",
       "1       -0.075735 -0.058939  0.021471  0.077806  0.061489  0.033497   \n",
       "\n",
       "         지식정보취약계층_예산  지식정보취약계층_이용자수    노인인구비율  \n",
       "cluster                                        \n",
       "0            0.85967       0.850837  0.119487  \n",
       "1           -0.16872      -0.166987 -0.023451  \n",
       "\n",
       "[2 rows x 27 columns]"
      ]
     },
     "execution_count": 22,
     "metadata": {},
     "output_type": "execute_result"
    }
   ],
   "source": [
    "df_km_mean= df_km.groupby(by = 'cluster').mean()\n",
    "df_km_mean\n",
    "# df_km_mean.to_csv('군집별 평균값(정규화).csv') #csv 파일로 저장 "
   ]
  },
  {
   "cell_type": "code",
   "execution_count": 23,
   "id": "b3845e7b",
   "metadata": {},
   "outputs": [
    {
     "data": {
      "text/html": [
       "<div>\n",
       "<style scoped>\n",
       "    .dataframe tbody tr th:only-of-type {\n",
       "        vertical-align: middle;\n",
       "    }\n",
       "\n",
       "    .dataframe tbody tr th {\n",
       "        vertical-align: top;\n",
       "    }\n",
       "\n",
       "    .dataframe thead th {\n",
       "        text-align: right;\n",
       "    }\n",
       "</style>\n",
       "<table border=\"1\" class=\"dataframe\">\n",
       "  <thead>\n",
       "    <tr style=\"text-align: right;\">\n",
       "      <th></th>\n",
       "      <th>법정동코드</th>\n",
       "      <th>법정동</th>\n",
       "      <th>총 좌석 수</th>\n",
       "      <th>총 좌석 수_중_노인 및 장애인열람석</th>\n",
       "      <th>이용자용_컴퓨터 수</th>\n",
       "      <th>정규직_사서직</th>\n",
       "      <th>정규직_사서직_정원</th>\n",
       "      <th>결산액_인건비</th>\n",
       "      <th>결산액_자료구입비</th>\n",
       "      <th>결산액_운영비</th>\n",
       "      <th>...</th>\n",
       "      <th>다문화_예산</th>\n",
       "      <th>공공도서관</th>\n",
       "      <th>버스정류장</th>\n",
       "      <th>지하철역</th>\n",
       "      <th>노인관련시설</th>\n",
       "      <th>노인보호구역</th>\n",
       "      <th>지식정보취약계층_예산</th>\n",
       "      <th>지식정보취약계층_이용자수</th>\n",
       "      <th>노인인구비율</th>\n",
       "      <th>cluster</th>\n",
       "    </tr>\n",
       "  </thead>\n",
       "  <tbody>\n",
       "    <tr>\n",
       "      <th>128</th>\n",
       "      <td>11470101</td>\n",
       "      <td>양천구_신정동</td>\n",
       "      <td>0.0</td>\n",
       "      <td>0.0</td>\n",
       "      <td>0.0</td>\n",
       "      <td>0.0</td>\n",
       "      <td>0.0</td>\n",
       "      <td>0.0</td>\n",
       "      <td>0.0</td>\n",
       "      <td>0.0</td>\n",
       "      <td>...</td>\n",
       "      <td>0.0</td>\n",
       "      <td>0.0</td>\n",
       "      <td>0.000034</td>\n",
       "      <td>4.182510e-07</td>\n",
       "      <td>1.394170e-07</td>\n",
       "      <td>4.182510e-07</td>\n",
       "      <td>0.0</td>\n",
       "      <td>0.0</td>\n",
       "      <td>23.692152</td>\n",
       "      <td>2</td>\n",
       "    </tr>\n",
       "    <tr>\n",
       "      <th>129</th>\n",
       "      <td>11380109</td>\n",
       "      <td>은평구_신사동</td>\n",
       "      <td>0.0</td>\n",
       "      <td>0.0</td>\n",
       "      <td>0.0</td>\n",
       "      <td>0.0</td>\n",
       "      <td>0.0</td>\n",
       "      <td>0.0</td>\n",
       "      <td>0.0</td>\n",
       "      <td>0.0</td>\n",
       "      <td>...</td>\n",
       "      <td>0.0</td>\n",
       "      <td>0.0</td>\n",
       "      <td>0.000037</td>\n",
       "      <td>1.079390e-06</td>\n",
       "      <td>5.396940e-07</td>\n",
       "      <td>5.396940e-07</td>\n",
       "      <td>0.0</td>\n",
       "      <td>0.0</td>\n",
       "      <td>0.000000</td>\n",
       "      <td>2</td>\n",
       "    </tr>\n",
       "    <tr>\n",
       "      <th>130</th>\n",
       "      <td>11110154</td>\n",
       "      <td>장사동</td>\n",
       "      <td>0.0</td>\n",
       "      <td>0.0</td>\n",
       "      <td>0.0</td>\n",
       "      <td>0.0</td>\n",
       "      <td>0.0</td>\n",
       "      <td>0.0</td>\n",
       "      <td>0.0</td>\n",
       "      <td>0.0</td>\n",
       "      <td>...</td>\n",
       "      <td>0.0</td>\n",
       "      <td>0.0</td>\n",
       "      <td>0.000017</td>\n",
       "      <td>0.000000e+00</td>\n",
       "      <td>0.000000e+00</td>\n",
       "      <td>0.000000e+00</td>\n",
       "      <td>0.0</td>\n",
       "      <td>0.0</td>\n",
       "      <td>51.562500</td>\n",
       "      <td>2</td>\n",
       "    </tr>\n",
       "    <tr>\n",
       "      <th>131</th>\n",
       "      <td>11110153</td>\n",
       "      <td>돈의동</td>\n",
       "      <td>0.0</td>\n",
       "      <td>0.0</td>\n",
       "      <td>0.0</td>\n",
       "      <td>0.0</td>\n",
       "      <td>0.0</td>\n",
       "      <td>0.0</td>\n",
       "      <td>0.0</td>\n",
       "      <td>0.0</td>\n",
       "      <td>...</td>\n",
       "      <td>0.0</td>\n",
       "      <td>0.0</td>\n",
       "      <td>0.000000</td>\n",
       "      <td>3.106640e-05</td>\n",
       "      <td>0.000000e+00</td>\n",
       "      <td>0.000000e+00</td>\n",
       "      <td>0.0</td>\n",
       "      <td>0.0</td>\n",
       "      <td>63.371356</td>\n",
       "      <td>2</td>\n",
       "    </tr>\n",
       "    <tr>\n",
       "      <th>132</th>\n",
       "      <td>11290132</td>\n",
       "      <td>보문동3가</td>\n",
       "      <td>0.0</td>\n",
       "      <td>0.0</td>\n",
       "      <td>0.0</td>\n",
       "      <td>0.0</td>\n",
       "      <td>0.0</td>\n",
       "      <td>0.0</td>\n",
       "      <td>0.0</td>\n",
       "      <td>0.0</td>\n",
       "      <td>...</td>\n",
       "      <td>0.0</td>\n",
       "      <td>0.0</td>\n",
       "      <td>0.000000</td>\n",
       "      <td>0.000000e+00</td>\n",
       "      <td>0.000000e+00</td>\n",
       "      <td>0.000000e+00</td>\n",
       "      <td>0.0</td>\n",
       "      <td>0.0</td>\n",
       "      <td>23.256705</td>\n",
       "      <td>2</td>\n",
       "    </tr>\n",
       "    <tr>\n",
       "      <th>...</th>\n",
       "      <td>...</td>\n",
       "      <td>...</td>\n",
       "      <td>...</td>\n",
       "      <td>...</td>\n",
       "      <td>...</td>\n",
       "      <td>...</td>\n",
       "      <td>...</td>\n",
       "      <td>...</td>\n",
       "      <td>...</td>\n",
       "      <td>...</td>\n",
       "      <td>...</td>\n",
       "      <td>...</td>\n",
       "      <td>...</td>\n",
       "      <td>...</td>\n",
       "      <td>...</td>\n",
       "      <td>...</td>\n",
       "      <td>...</td>\n",
       "      <td>...</td>\n",
       "      <td>...</td>\n",
       "      <td>...</td>\n",
       "      <td>...</td>\n",
       "    </tr>\n",
       "    <tr>\n",
       "      <th>463</th>\n",
       "      <td>11680113</td>\n",
       "      <td>율현동</td>\n",
       "      <td>0.0</td>\n",
       "      <td>0.0</td>\n",
       "      <td>0.0</td>\n",
       "      <td>0.0</td>\n",
       "      <td>0.0</td>\n",
       "      <td>0.0</td>\n",
       "      <td>0.0</td>\n",
       "      <td>0.0</td>\n",
       "      <td>...</td>\n",
       "      <td>0.0</td>\n",
       "      <td>0.0</td>\n",
       "      <td>0.000013</td>\n",
       "      <td>0.000000e+00</td>\n",
       "      <td>0.000000e+00</td>\n",
       "      <td>0.000000e+00</td>\n",
       "      <td>0.0</td>\n",
       "      <td>0.0</td>\n",
       "      <td>23.653088</td>\n",
       "      <td>2</td>\n",
       "    </tr>\n",
       "    <tr>\n",
       "      <th>464</th>\n",
       "      <td>11680111</td>\n",
       "      <td>세곡동</td>\n",
       "      <td>0.0</td>\n",
       "      <td>0.0</td>\n",
       "      <td>0.0</td>\n",
       "      <td>0.0</td>\n",
       "      <td>0.0</td>\n",
       "      <td>0.0</td>\n",
       "      <td>0.0</td>\n",
       "      <td>0.0</td>\n",
       "      <td>...</td>\n",
       "      <td>0.0</td>\n",
       "      <td>0.0</td>\n",
       "      <td>0.000021</td>\n",
       "      <td>0.000000e+00</td>\n",
       "      <td>0.000000e+00</td>\n",
       "      <td>4.128580e-07</td>\n",
       "      <td>0.0</td>\n",
       "      <td>0.0</td>\n",
       "      <td>23.731139</td>\n",
       "      <td>2</td>\n",
       "    </tr>\n",
       "    <tr>\n",
       "      <th>465</th>\n",
       "      <td>11680110</td>\n",
       "      <td>압구정동</td>\n",
       "      <td>0.0</td>\n",
       "      <td>0.0</td>\n",
       "      <td>0.0</td>\n",
       "      <td>0.0</td>\n",
       "      <td>0.0</td>\n",
       "      <td>0.0</td>\n",
       "      <td>0.0</td>\n",
       "      <td>0.0</td>\n",
       "      <td>...</td>\n",
       "      <td>0.0</td>\n",
       "      <td>0.0</td>\n",
       "      <td>0.000009</td>\n",
       "      <td>0.000000e+00</td>\n",
       "      <td>0.000000e+00</td>\n",
       "      <td>0.000000e+00</td>\n",
       "      <td>0.0</td>\n",
       "      <td>0.0</td>\n",
       "      <td>27.320490</td>\n",
       "      <td>2</td>\n",
       "    </tr>\n",
       "    <tr>\n",
       "      <th>466</th>\n",
       "      <td>11680107</td>\n",
       "      <td>강남구_신사동</td>\n",
       "      <td>0.0</td>\n",
       "      <td>0.0</td>\n",
       "      <td>0.0</td>\n",
       "      <td>0.0</td>\n",
       "      <td>0.0</td>\n",
       "      <td>0.0</td>\n",
       "      <td>0.0</td>\n",
       "      <td>0.0</td>\n",
       "      <td>...</td>\n",
       "      <td>0.0</td>\n",
       "      <td>0.0</td>\n",
       "      <td>0.000024</td>\n",
       "      <td>1.163860e-06</td>\n",
       "      <td>5.819300e-07</td>\n",
       "      <td>1.163860e-06</td>\n",
       "      <td>0.0</td>\n",
       "      <td>0.0</td>\n",
       "      <td>28.670177</td>\n",
       "      <td>2</td>\n",
       "    </tr>\n",
       "    <tr>\n",
       "      <th>467</th>\n",
       "      <td>11260106</td>\n",
       "      <td>신내동</td>\n",
       "      <td>0.0</td>\n",
       "      <td>0.0</td>\n",
       "      <td>0.0</td>\n",
       "      <td>0.0</td>\n",
       "      <td>0.0</td>\n",
       "      <td>0.0</td>\n",
       "      <td>0.0</td>\n",
       "      <td>0.0</td>\n",
       "      <td>...</td>\n",
       "      <td>0.0</td>\n",
       "      <td>0.0</td>\n",
       "      <td>0.000029</td>\n",
       "      <td>5.658160e-07</td>\n",
       "      <td>5.658160e-07</td>\n",
       "      <td>2.829080e-07</td>\n",
       "      <td>0.0</td>\n",
       "      <td>0.0</td>\n",
       "      <td>28.900053</td>\n",
       "      <td>2</td>\n",
       "    </tr>\n",
       "  </tbody>\n",
       "</table>\n",
       "<p>340 rows × 30 columns</p>\n",
       "</div>"
      ],
      "text/plain": [
       "        법정동코드      법정동  총 좌석 수  총 좌석 수_중_노인 및 장애인열람석  이용자용_컴퓨터 수  정규직_사서직  \\\n",
       "128  11470101  양천구_신정동     0.0                   0.0         0.0      0.0   \n",
       "129  11380109  은평구_신사동     0.0                   0.0         0.0      0.0   \n",
       "130  11110154      장사동     0.0                   0.0         0.0      0.0   \n",
       "131  11110153      돈의동     0.0                   0.0         0.0      0.0   \n",
       "132  11290132    보문동3가     0.0                   0.0         0.0      0.0   \n",
       "..        ...      ...     ...                   ...         ...      ...   \n",
       "463  11680113      율현동     0.0                   0.0         0.0      0.0   \n",
       "464  11680111      세곡동     0.0                   0.0         0.0      0.0   \n",
       "465  11680110     압구정동     0.0                   0.0         0.0      0.0   \n",
       "466  11680107  강남구_신사동     0.0                   0.0         0.0      0.0   \n",
       "467  11260106      신내동     0.0                   0.0         0.0      0.0   \n",
       "\n",
       "     정규직_사서직_정원  결산액_인건비  결산액_자료구입비  결산액_운영비  ...  다문화_예산  공공도서관     버스정류장  \\\n",
       "128         0.0      0.0        0.0      0.0  ...     0.0    0.0  0.000034   \n",
       "129         0.0      0.0        0.0      0.0  ...     0.0    0.0  0.000037   \n",
       "130         0.0      0.0        0.0      0.0  ...     0.0    0.0  0.000017   \n",
       "131         0.0      0.0        0.0      0.0  ...     0.0    0.0  0.000000   \n",
       "132         0.0      0.0        0.0      0.0  ...     0.0    0.0  0.000000   \n",
       "..          ...      ...        ...      ...  ...     ...    ...       ...   \n",
       "463         0.0      0.0        0.0      0.0  ...     0.0    0.0  0.000013   \n",
       "464         0.0      0.0        0.0      0.0  ...     0.0    0.0  0.000021   \n",
       "465         0.0      0.0        0.0      0.0  ...     0.0    0.0  0.000009   \n",
       "466         0.0      0.0        0.0      0.0  ...     0.0    0.0  0.000024   \n",
       "467         0.0      0.0        0.0      0.0  ...     0.0    0.0  0.000029   \n",
       "\n",
       "             지하철역        노인관련시설        노인보호구역  지식정보취약계층_예산  지식정보취약계층_이용자수  \\\n",
       "128  4.182510e-07  1.394170e-07  4.182510e-07          0.0            0.0   \n",
       "129  1.079390e-06  5.396940e-07  5.396940e-07          0.0            0.0   \n",
       "130  0.000000e+00  0.000000e+00  0.000000e+00          0.0            0.0   \n",
       "131  3.106640e-05  0.000000e+00  0.000000e+00          0.0            0.0   \n",
       "132  0.000000e+00  0.000000e+00  0.000000e+00          0.0            0.0   \n",
       "..            ...           ...           ...          ...            ...   \n",
       "463  0.000000e+00  0.000000e+00  0.000000e+00          0.0            0.0   \n",
       "464  0.000000e+00  0.000000e+00  4.128580e-07          0.0            0.0   \n",
       "465  0.000000e+00  0.000000e+00  0.000000e+00          0.0            0.0   \n",
       "466  1.163860e-06  5.819300e-07  1.163860e-06          0.0            0.0   \n",
       "467  5.658160e-07  5.658160e-07  2.829080e-07          0.0            0.0   \n",
       "\n",
       "        노인인구비율  cluster  \n",
       "128  23.692152        2  \n",
       "129   0.000000        2  \n",
       "130  51.562500        2  \n",
       "131  63.371356        2  \n",
       "132  23.256705        2  \n",
       "..         ...      ...  \n",
       "463  23.653088        2  \n",
       "464  23.731139        2  \n",
       "465  27.320490        2  \n",
       "466  28.670177        2  \n",
       "467  28.900053        2  \n",
       "\n",
       "[340 rows x 30 columns]"
      ]
     },
     "execution_count": 23,
     "metadata": {},
     "output_type": "execute_result"
    }
   ],
   "source": [
    "df_km_mean2 = pd.read_csv('군집3개 비율 데이터.csv', encoding='cp949')\n",
    "\n",
    "df_km_2 = df_km_mean2[df_km_mean2['cluster']== 2]\n",
    "df_km_2"
   ]
  },
  {
   "cell_type": "code",
   "execution_count": 24,
   "id": "01a5298f",
   "metadata": {},
   "outputs": [
    {
     "data": {
      "text/plain": [
       "Index(['법정동코드', '법정동', '총 좌석 수', '총 좌석 수_중_노인 및 장애인열람석', '이용자용_컴퓨터 수',\n",
       "       '정규직_사서직', '정규직_사서직_정원', '결산액_인건비', '결산액_자료구입비', '결산액_운영비', '예산액_인건비',\n",
       "       '예산액_자료구입비', '예산액_운영비', '회원등록자수_연령별회원등록_성인', '이용자수_도서관방문자수',\n",
       "       '정보서비스의뢰및제공_제공', '장애인용_특수자료수_인쇄', '도서관총예산', '장애인_예산', '노인_예산', '다문화_예산',\n",
       "       '공공도서관', '버스정류장', '지하철역', '노인관련시설', '노인보호구역', '지식정보취약계층_예산',\n",
       "       '지식정보취약계층_이용자수', '노인인구비율', 'cluster'],\n",
       "      dtype='object')"
      ]
     },
     "execution_count": 24,
     "metadata": {},
     "output_type": "execute_result"
    }
   ],
   "source": [
    "df_km_2.columns"
   ]
  },
  {
   "cell_type": "code",
   "execution_count": 25,
   "id": "d2e375b4",
   "metadata": {},
   "outputs": [],
   "source": [
    "df_km_2_d = df_km_2[['법정동', '법정동코드', 'cluster']]"
   ]
  },
  {
   "cell_type": "code",
   "execution_count": 26,
   "id": "6f9c423f",
   "metadata": {},
   "outputs": [],
   "source": [
    "for i in ['법정동', '법정동코드', 'cluster']:\n",
    "    df_km_2.drop(i, axis=1, inplace=True)\n"
   ]
  },
  {
   "cell_type": "code",
   "execution_count": 27,
   "id": "33137b44",
   "metadata": {
    "scrolled": true
   },
   "outputs": [],
   "source": [
    "ss = StandardScaler()\n",
    "df_scaled2 = pd.DataFrame(ss.fit_transform(df_km_2))"
   ]
  },
  {
   "cell_type": "code",
   "execution_count": 28,
   "id": "ba8fb525",
   "metadata": {},
   "outputs": [
    {
     "data": {
      "text/plain": [
       "Index(['법정동', '법정동코드', 'cluster', '총 좌석 수', '총 좌석 수_중_노인 및 장애인열람석',\n",
       "       '이용자용_컴퓨터 수', '정규직_사서직', '정규직_사서직_정원', '결산액_인건비', '결산액_자료구입비',\n",
       "       '결산액_운영비', '예산액_인건비', '예산액_자료구입비', '예산액_운영비', '회원등록자수_연령별회원등록_성인',\n",
       "       '이용자수_도서관방문자수', '정보서비스의뢰및제공_제공', '장애인용_특수자료수_인쇄', '도서관총예산', '장애인_예산',\n",
       "       '노인_예산', '다문화_예산', '공공도서관', '버스정류장', '지하철역', '노인관련시설', '노인보호구역',\n",
       "       '지식정보취약계층_예산', '지식정보취약계층_이용자수', '노인인구비율'],\n",
       "      dtype='object')"
      ]
     },
     "execution_count": 28,
     "metadata": {},
     "output_type": "execute_result"
    }
   ],
   "source": [
    "df_ss2 = pd.concat([df_km_2_d, df_scaled2], axis=1)\n",
    "df_ss2.columns = ['법정동', '법정동코드', 'cluster', '총 좌석 수', '총 좌석 수_중_노인 및 장애인열람석', '이용자용_컴퓨터 수',\n",
    "       '정규직_사서직', '정규직_사서직_정원', '결산액_인건비', '결산액_자료구입비', '결산액_운영비', '예산액_인건비',\n",
    "       '예산액_자료구입비', '예산액_운영비', '회원등록자수_연령별회원등록_성인', '이용자수_도서관방문자수',\n",
    "       '정보서비스의뢰및제공_제공', '장애인용_특수자료수_인쇄', '도서관총예산', '장애인_예산', '노인_예산', '다문화_예산',\n",
    "       '공공도서관', '버스정류장', '지하철역', '노인관련시설', '노인보호구역', '지식정보취약계층_예산',\n",
    "       '지식정보취약계층_이용자수', '노인인구비율']\n",
    "df_ss2.columns"
   ]
  },
  {
   "cell_type": "code",
   "execution_count": 29,
   "id": "fdbf9671",
   "metadata": {},
   "outputs": [],
   "source": [
    "df_all = pd.concat([df_km,df_ss2], axis=0)\n",
    "df_all\n",
    "\n",
    "df_all_mean = df_all.groupby(by = 'cluster').mean()\n",
    "df_all_mean.to_csv('군집별 평균값(정규화)도서관없는동포함.csv')"
   ]
  },
  {
   "cell_type": "code",
   "execution_count": 30,
   "id": "c91dfaa6",
   "metadata": {},
   "outputs": [],
   "source": [
    "df_km_mean = df_km_mean2.groupby(by = 'cluster').mean()\n",
    "df_km_mean2\n",
    "df_km_mean2.to_csv('군집별 평균값(정규화)도서관없는동포함.csv')"
   ]
  },
  {
   "cell_type": "code",
   "execution_count": 31,
   "id": "419c7489",
   "metadata": {},
   "outputs": [
    {
     "name": "stdout",
     "output_type": "stream",
     "text": [
      "<class 'pandas.core.frame.DataFrame'>\n",
      "Index: 22 entries, 5 to 평균\n",
      "Data columns (total 29 columns):\n",
      " #   Column                Non-Null Count  Dtype  \n",
      "---  ------                --------------  -----  \n",
      " 0   법정동                   21 non-null     object \n",
      " 1   총 좌석 수                22 non-null     float64\n",
      " 2   총 좌석 수_중_노인 및 장애인열람석  22 non-null     float64\n",
      " 3   이용자용_컴퓨터 수            22 non-null     float64\n",
      " 4   정규직_사서직               22 non-null     float64\n",
      " 5   정규직_사서직_정원            22 non-null     float64\n",
      " 6   결산액_인건비               22 non-null     float64\n",
      " 7   결산액_자료구입비             22 non-null     float64\n",
      " 8   결산액_운영비               22 non-null     float64\n",
      " 9   예산액_인건비               22 non-null     float64\n",
      " 10  예산액_자료구입비             22 non-null     float64\n",
      " 11  예산액_운영비               22 non-null     float64\n",
      " 12  회원등록자수_연령별회원등록_성인     22 non-null     float64\n",
      " 13  이용자수_도서관방문자수          22 non-null     float64\n",
      " 14  정보서비스의뢰및제공_제공         22 non-null     float64\n",
      " 15  장애인용_특수자료수_인쇄         22 non-null     float64\n",
      " 16  도서관총예산                22 non-null     float64\n",
      " 17  장애인_예산                22 non-null     float64\n",
      " 18  노인_예산                 22 non-null     float64\n",
      " 19  다문화_예산                22 non-null     float64\n",
      " 20  공공도서관                 22 non-null     float64\n",
      " 21  버스정류장                 22 non-null     float64\n",
      " 22  지하철역                  22 non-null     float64\n",
      " 23  노인관련시설                22 non-null     float64\n",
      " 24  노인보호구역                22 non-null     float64\n",
      " 25  지식정보취약계층_예산           22 non-null     float64\n",
      " 26  지식정보취약계층_이용자수         22 non-null     float64\n",
      " 27  노인인구비율                22 non-null     float64\n",
      " 28  cluster               22 non-null     float64\n",
      "dtypes: float64(28), object(1)\n",
      "memory usage: 5.2+ KB\n"
     ]
    }
   ],
   "source": [
    "df_km_0.loc['평균'] = df_km_0.mean(axis=0) \n",
    "#df_km_0.to_csv('군집0(평균).csv')\n",
    "\n",
    "df_km_0.info()"
   ]
  },
  {
   "cell_type": "code",
   "execution_count": 32,
   "id": "a1ef23ac",
   "metadata": {},
   "outputs": [
    {
     "data": {
      "text/plain": [
       "0      가락동\n",
       "1      가산동\n",
       "2      가양동\n",
       "3      강일동\n",
       "4      개봉동\n",
       "      ... \n",
       "122    홍은동\n",
       "123    화곡동\n",
       "126    휘경동\n",
       "127    흑석동\n",
       "평균     NaN\n",
       "Name: 법정동, Length: 108, dtype: object"
      ]
     },
     "execution_count": 32,
     "metadata": {},
     "output_type": "execute_result"
    }
   ],
   "source": [
    "df_km_1.loc['평균'] = df_km_0.mean(axis=0) \n",
    "#df_km_1.to_csv('군집1(평균).csv')\n",
    "df_km_1['법정동']"
   ]
  },
  {
   "cell_type": "code",
   "execution_count": 33,
   "id": "f1e03732",
   "metadata": {},
   "outputs": [],
   "source": [
    "import matplotlib\n",
    "\n",
    "matplotlib.rcParams['font.family'] ='Malgun Gothic'\n",
    "\n",
    "matplotlib.rcParams['axes.unicode_minus'] =False"
   ]
  },
  {
   "cell_type": "code",
   "execution_count": 36,
   "id": "d258ec0e",
   "metadata": {},
   "outputs": [
    {
     "data": {
      "image/png": "[encoded data removed]",
      "text/plain": [
       "<Figure size 640x480 with 1 Axes>"
      ]
     },
     "metadata": {},
     "output_type": "display_data"
    }
   ],
   "source": [
    "sns.scatterplot(data = df_all, x='노인인구비율', y='노인관련시설', hue='cluster')\n",
    "plt.savefig('산점도로 표현한 군집별 특성.png',  bbox_inches = 'tight')"
   ]
  },
  {
   "cell_type": "code",
   "execution_count": null,
   "id": "39b2434e",
   "metadata": {},
   "outputs": [],
   "source": []
  },
  {
   "cell_type": "code",
   "execution_count": null,
   "id": "b5f77e19",
   "metadata": {},
   "outputs": [],
   "source": []
  }
 ],
 "metadata": {
  "kernelspec": {
   "display_name": "Python 3 (ipykernel)",
   "language": "python",
   "name": "python3"
  },
  "language_info": {
   "codemirror_mode": {
    "name": "ipython",
    "version": 3
   },
   "file_extension": ".py",
   "mimetype": "text/x-python",
   "name": "python",
   "nbconvert_exporter": "python",
   "pygments_lexer": "ipython3",
   "version": "3.10.9"
  }
 },
 "nbformat": 4,
 "nbformat_minor": 5
}
